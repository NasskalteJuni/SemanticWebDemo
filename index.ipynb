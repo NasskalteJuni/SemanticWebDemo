{
 "cells": [
  {
   "cell_type": "markdown",
   "id": "7989ebb8",
   "metadata": {
    "hideCode": false,
    "hidePrompt": false
   },
   "source": [
    "_Anmerkung: Ggf. müssen sie nach dem Öffnen des Notebooks noch einmal auf 'Kernel > Restart & Run All' clicken_"
   ]
  },
  {
   "cell_type": "markdown",
   "id": "b7af89bf",
   "metadata": {
    "hideCode": false,
    "hidePrompt": false
   },
   "source": [
    "<h1>Demonstrator: Abfragen mit SPARQL</h1>"
   ]
  },
  {
   "cell_type": "markdown",
   "id": "ec189f01",
   "metadata": {
    "hideCode": false,
    "hidePrompt": false
   },
   "source": [
    "In diesem Demonstrator werden wir zeigen, wie SPARQL Abfragen genutzt werden können, \n",
    "um aus Open Data Beständen weiteres Wissen zu ziehen."
   ]
  },
  {
   "cell_type": "markdown",
   "id": "c7ece08d",
   "metadata": {
    "hideCode": false,
    "hidePrompt": false
   },
   "source": [
    "![SPARQL Logo](./media/SPARQL.png)"
   ]
  },
  {
   "cell_type": "markdown",
   "id": "b4ae05ce",
   "metadata": {
    "hideCode": false,
    "hidePrompt": false
   },
   "source": [
    "<h2> Übersicht </h2>"
   ]
  },
  {
   "cell_type": "markdown",
   "id": "e1091c86",
   "metadata": {
    "hideCode": false,
    "hidePrompt": false
   },
   "source": [

    "Im Verlauf dieses Vortrages werden wir nochmal die Grundlagen von RDF und SPARQL-Abfragen erklären, \n",
    "und danach darauf eingehen, wie sich derart gewonnene Daten zur Erweiterung eines bestehenden Datenbestandes Nutzen lassen. <br><br>\n",
    "Idealerweise können sie am Ende dieses Demonstrators beim ihren nächsten Projekt ebenfalls Daten über Open Data im RDF-Format erweitern. <br>\n",
    "In diesem Vortrag kommen daher folgende Themen vor:\n",
    "\n",
    "    - Was ist SPARQL \n",
    "    - SPARQL Queries\n",
    "    - Erweiterung einer DB mit Open Data\n",
    "        - Suche in der DB\n",
    "        - Geeignete Attribute zur Identifikation über mehrere DB\n",
    "        - Erweiterung der DB\n",
    "    - Welche Daten sind (in der erweiterten DB) nicht vorhanden\n",
    "    - Fazit"
   ]
  },
  {
   "cell_type": "markdown",
   "id": "e0ffdbb5",
   "metadata": {
    "hideCode": false,
    "hidePrompt": false
   },
   "source": [
    "<h2> Was ist SPARQL? </h2>"
   ]
  },
  {
   "cell_type": "markdown",
   "id": "ea52b4e2",
   "metadata": {
    "hideCode": false,
    "hidePrompt": false
   },
   "source": [
    "Bei SPARQL handelt es sich um die **S**PARQL **P**rotocol **A**nd **R**DF **Q**uery **L**anguage. <br>\n",
    "Es ist also sowohl ein Protokoll als auch eine Abfragesprache für das Resource Description Framework. <br>\n",
    "Während SQL die Abfragesprache für relationale Datenbanken ist, ist SPARQL die geläufige Abfragesprache für RDF-Daten, welche nicht als Tabellen sondern als Graph mit gelabelten Kanten zu verstehen sind.\n",
    "RDF steht für **R**esource **D**escription **F**ramework, ein vom W3C standardisiertes, XML-basiertes Format zur Beschreibung von Datenobjekten und ihren Beziehungen zueinander. <br><br><br>\n",
    "\n",
    "\n",
    "![RDF Graph mit Beziehungen zwischen Personen](./media/RDF_Graph.png)\n",
    "\n",
    "\n",
    "<br><br>In diesem Graph kann man unter anderem ablesen, das Mary die Frau von John ist. <br>\n",
    "Als Subjekt Prädikat Objekt Triple lässt sich dies als<br>\n",
    "*John hasSpouse Mary* <br>\n",
    "formulieren. Und SPARQL erlaubt, diese Abfragen in Queries über das auf HTTP basierte SPARQL-Protokoll an einen SPARQL Query Endpoint zu senden. Die Ergebnisse können in mehreren Formaten zurückgeliefert werden, die gängigen Formate sind jedoch JSON und XML. <br><br>"
   ]
  },
  {
   "cell_type": "markdown",
   "id": "a1387654",
   "metadata": {
    "hideCode": false,
    "hidePrompt": false
   },
   "source": [
    "<h2> SPARQL Queries </h2>"
   ]
  },
  {
   "cell_type": "markdown",
   "id": "6d59cb22",
   "metadata": {
    "hideCode": false,
    "hidePrompt": false
   },
   "source": [
    "Eine SPARQL Abfrage ähnelt in ihren Augen möglicherweise einer SQL-Abfrage, jedoch sind die Gemeinsamkeiten nur oberflächlich.\n",
    "Abfragen besitzen einen SELECT-Part, der die resultierenden Variablen (von der Struktur den Spalten in SQL entsprechend) wiedergibt und einem WHERE-Part welcher definiert, welche Eigenschaften die resultierenden Filme alle gemeinsam besitzen."
   ]
  },
  {
   "cell_type": "code",
   "execution_count": 8,
   "id": "a0edba5e",
   "metadata": {
    "hideCode": false,
    "hidePrompt": false
   },
   "outputs": [
    {
     "data": {
      "text/html": [
       "<table><thead><tr><th>movie</th></tr></thead><tbody><tr><td>http://www.wikidata.org/entity/Q372</td></tr><tr><td>http://www.wikidata.org/entity/Q593</td></tr><tr><td>http://www.wikidata.org/entity/Q595</td></tr><tr><td>http://www.wikidata.org/entity/Q1365</td></tr><tr><td>http://www.wikidata.org/entity/Q2201</td></tr><tr><td>http://www.wikidata.org/entity/Q2345</td></tr><tr><td>http://www.wikidata.org/entity/Q2875</td></tr><tr><td>http://www.wikidata.org/entity/Q3092</td></tr><tr><td>http://www.wikidata.org/entity/Q3187</td></tr><tr><td>http://www.wikidata.org/entity/Q3208</td></tr></tbody></table>"
      ],
      "text/plain": [
       "<IPython.core.display.HTML object>"
      ]
     },
     "metadata": {},
     "output_type": "display_data"
    }
   ],
   "source": [
    "from data.sparql import query, table\n",
    "\n",
    "table(query(\"\"\"\n",
    "SELECT ?movie\n",
    "WHERE\n",
    "{\n",
    " ?movie wdt:P31 wd:Q11424 #wdt:P31 = instance of; wd:Q11424 = film\n",
    "}\n",
    "LIMIT 10\n",
    "\"\"\"))"
   ]
  },
  {
   "cell_type": "markdown",
   "id": "efde1d04",
   "metadata": {
    "hideCode": false,
    "hidePrompt": false
   },
   "source": [
    "Diese Query liefert die ersten 10 Filme, welche in Wikidata gelistet sind.\n",
    "Zwar können sie auf die Einträge klicken, um zu sehen, um was es sich handelt, jedoch ist dieses Format noch nicht sonderlich leserlich."
   ]
  },
  {
   "cell_type": "markdown",
   "id": "256995b2",
   "metadata": {
    "hideCode": false,
    "hidePrompt": false
   },
   "source": [
    "Um statt der Objekte selbst ihre Label zu erhalten, erweitern wir die vorherige Query. Diesmal soll nicht der Film selbst, sondern sein Titel angezeigt werden."
   ]
  },
  {
   "cell_type": "code",
   "execution_count": 9,
   "id": "837b2655",
   "metadata": {
    "hideCode": false,
    "hidePrompt": false,
    "scrolled": true
   },
   "outputs": [
    {
     "data": {
      "text/markdown": [
       "| title |\n",
       "| --- |\n",
       "| ...men Olsenbanden var ikke død |\n",
       "| Le guerriere dal seno nudo |\n",
       "| La vendetta dei gladiatori |\n",
       "| Zinebi Festival Internacional de Cine Documental y Cortometraje de Bilbao |\n",
       "| Relatives |\n",
       "| Börn |\n",
       "| Syurpriz |\n",
       "| Petualang Tak Kenal Menyerah |\n",
       "| طلق صناعي |\n",
       "| Brexit (2019) |\n"
      ],
      "text/plain": [
       "<IPython.core.display.Markdown object>"
      ]
     },
     "metadata": {},
     "output_type": "display_data"
    },
    {
     "data": {
      "text/plain": [
       "'showing 10 results'"
      ]
     },
     "execution_count": 2,
     "metadata": {},
     "output_type": "execute_result"
    }
   ],
   "source": [
    "from data.sparql import query, table\n",
    "\n",
    "table(query(\n",
    "\"\"\"\n",
    "SELECT ?title\n",
    "WHERE\n",
    "{\n",
    " ?movie wdt:P31 wd:Q11424 .\n",
    " ?movie wdt:P1448 ?title       \n",
    "} \n",
    "LIMIT 10\n",
    "\"\"\"\n",
    "))    "
   ]
  },
  {
   "cell_type": "markdown",
   "id": "5e1ea25b",
   "metadata": {
    "hideCode": false,
    "hidePrompt": false
   },
   "source": [
    "Wie sie sehen, muss nicht jede Variable auch ausgegeben werden.\n",
    "Hier sieht man nur den Titel, aber nicht das Film-Objekt."
   ]
  },
  {
   "cell_type": "markdown",
   "id": "00eb2a35",
   "metadata": {
    "hideCode": false,
    "hidePrompt": false
   },
   "source": [
    "Zudem ist dies die erste Query, bei der mehrere Kriterien (nämlich Objekt ?movie ist vom Typ Film und Object ?movie hat Titel ?title.\n",
    "Jedes dieser logischen Tripletts wird durch einen Punkt vom nächsten getrennt.\n",
    "Um etwas Schreibarbeit zu sparen, kann auch "
   ]
  },
  {
   "cell_type": "markdown",
   "id": "82946e4e",
   "metadata": {
    "hideCode": false,
    "hidePrompt": false
   },
   "source": [
    "```\n",
    "SELECT ?title\n",
    "WHERE\n",
    "{\n",
    " ?movie wdt:P31 wd:Q11424;\n",
    "        wdt:P1448 ?title       \n",
    "} \n",
    "LIMIT 10\n",
    "```"
   ]
  },
  {
   "cell_type": "markdown",
   "id": "2e71e723",
   "metadata": {
    "hideCode": false,
    "hidePrompt": false
   },
   "source": [
    "geschreiben werden. Hier wird durch das Semikolon \";\" das Subjekt aus dem letzten Triplet für das Nächste wiederverwendet."
   ]
  },
  {
   "cell_type": "markdown",
   "id": "9bd69b3c",
   "metadata": {
    "hideCode": false,
    "hidePrompt": false
   },
   "source": [
    "Schreiben sie ebenfalls eine Abfrage, welche die IMDB ID dreier Filme ausgibt.\n",
    "Das Prädikat für 'hat IMDB ID' lautet 'wdt:P345', bei der IMDB ID handelt es sich um eine ID der 'Internet Movie Database'."
   ]
  },
  {
   "cell_type": "code",
   "execution_count": 10,
   "id": "617143e3",
   "metadata": {
    "hideCode": false,
    "hidePrompt": false
   },
   "outputs": [],
   "source": [
    "# Tragen sie hier ihren SPARQL-Code ein und klicken sie auf RUN, um ihn auszutesten.\n",
    "# Denken sie daran, ggf. über 'from data.sparql import query, table' die notwendigen Funktionen zu importieren,\n",
    "# sollte es sie hier zu einem Fehler kommen.\n",
    "\n",
    "\n",
    "\n",
    "\n",
    "\n",
    "\n"
   ]
  },
  {
   "cell_type": "markdown",
   "id": "a54ec9d9",
   "metadata": {
    "hideCode": false,
    "hidePrompt": false
   },
   "source": [
    "<h2> Erweiterung einer DB mit Open Data </h2>"
   ]
  },
  {
   "cell_type": "markdown",
   "id": "361842f1",
   "metadata": {
    "hideCode": false,
    "hidePrompt": false
   },
   "source": [
    "Sie haben nun einen Überblick über die grundlegende Struktur von SPARQL Abfragen bekommen.<br>\n",
    "Die durch SPARQL verfügbar gemachten Daten können verwendet werden, \n",
    "um beispielsweise zusätzliche Informationen zu denen einer Datenbank hinzuzufügen. <br><br>\n",
    "\n",
    "In diesem Notebook handelt es sich hierbei um eine MongoDB, welche eine vielzahl an Filmen enthält.\n",
    "Die Daten entstammen den bekannten *movie_metadata.csv* File.\n",
    "Zur Rekapitulation: Dieser Datensatz enthält folgende Informationen zu Filmen bis zum Jahr 2020:"
   ]
  },
  {
   "cell_type": "markdown",
   "id": "e68666a0",
   "metadata": {
    "hideCode": false,
    "hidePrompt": false
   },
   "source": [
    "- index (Integer, n-ter Eintrag innerhalb des Datensatzes)\n",
    "- title\n",
    "- adult (Boolean, ob der Film FSK 18 ist)\n",
    "- belongs_to_collection\n",
    "- budget\n",
    "- genres\n",
    "- homepage\n",
    "- id (Integer, ID innerhalb des Datensatz)\n",
    "- imdb_id (String, ID innerhalb der Internet Movie Database)\n",
    "- original_language\n",
    "- original_title\n",
    "- overview (String, sehr kurze Textzusammenfassung der Handlung)\n",
    "- popularity\n",
    "- poster_path\n",
    "- production_companies\n",
    "- production_countries\n",
    "- release_date\n",
    "- revenue\n",
    "- runtime\n",
    "- spoken_languages\n",
    "- status (String, Released, produziert aber nicht veröffentlicht, etc.)\n",
    "- tagline (String, Slogan, Untertitel des Films)\n",
    "- video\n",
    "- vote_average\n",
    "- vote_count\n"
   ]
  },
  {
   "cell_type": "markdown",
   "id": "441c5cd2",
   "metadata": {
    "hideCode": false,
    "hidePrompt": false
   },
   "source": [
    "Die Datenbank enthält also bereits viele Informationen.\n",
    "Titel, Genre, Veröffentlichungszeitpunkt und ähnliches ist enthalten. <br>\n",
    "Jedoch fehlen auch einige Informationen in den bisherigen Daten.\n",
    "Beispielsweise: <br>\n",
    "- Welche Schauspieler:innen haben in den Film gespielt? (Bzw. wer hat allgemein am Film mitgewirkt) \n",
    "- In welchen Ländern wurde der Film veröffentlicht?\n",
    "- Welche Altersfreigabe gibt es **pro Land**?"
   ]
  },
  {
   "cell_type": "markdown",
   "id": "0b4c6cbc",
   "metadata": {
    "hideCode": false,
    "hidePrompt": false
   },
   "source": [
    "Diese im Original-Datensatz nicht vorhandenen Informationen können gegebenenfalls über Open Data im Netz in Erfahrung gebracht werden. \n",
    "Dies geschieht im folgenden.\n",
    "In der Datenbank befindet sich beispielsweise zum Film Iron Man folgendes:"
   ]
  },
  {
   "cell_type": "code",
   "execution_count": 11,
   "id": "55321bb3",
   "metadata": {
    "hideCode": false,
    "hidePrompt": false,
    "scrolled": true
   },
   "outputs": [
    {
     "data": {
      "text/html": [
       "<table><thead><tr><th> Key </th><th> Value </th></tr></thead><tbody><tr><td>index</td><td>12588</td></tr><tr><td>adult</td><td>False</td></tr><tr><td>belongs_to_collection</td><td>Iron Man Collection</td></tr><tr><td>budget</td><td>140000000</td></tr><tr><td>genres</td><td>Action,Science Fiction,Adventure</td></tr><tr><td>homepage</td><td>http://www.ironmanmovie.com/</td></tr><tr><td>id</td><td>1726</td></tr><tr><td>imdb_id</td><td>tt0371746</td></tr><tr><td>original_language</td><td>en</td></tr><tr><td>original_title</td><td>Iron Man</td></tr><tr><td>overview</td><td>After being held captive in an Afghan cave, billionaire engineer Tony Stark creates a unique weaponized suit of armor to fight evil.</td></tr><tr><td>popularity</td><td>22.073099</td></tr><tr><td>poster_path</td><td>/848chlIWVT41VtAAgyh9bWymAYb.jpg</td></tr><tr><td>production_companies</td><td>Paramount Pictures,Marvel Studios</td></tr><tr><td>production_countries</td><td>United States of America</td></tr><tr><td>release_date</td><td>2008-04-30</td></tr><tr><td>revenue</td><td>585174222.0</td></tr><tr><td>runtime</td><td>126.0</td></tr><tr><td>spoken_languages</td><td>en,fa,ur,ar</td></tr><tr><td>status</td><td>Released</td></tr><tr><td>tagline</td><td>Heroes aren't born. They're built.</td></tr><tr><td>title</td><td>Iron Man</td></tr><tr><td>video</td><td>False</td></tr><tr><td>vote_average</td><td>7.4</td></tr><tr><td>vote_count</td><td>8951.0</td></tr><tr><td>cast_members</td><td><table><thead><tr><th>name</th><th>role</th></tr></thead><tbody><tr><td>Jon Favreau</td><td>director</td></tr><tr><td>Mark Fergus</td><td>screenwriter</td></tr><tr><td>Hawk Ostby</td><td>screenwriter</td></tr><tr><td>Art Marcum</td><td>screenwriter</td></tr><tr><td>Matt Holloway</td><td>screenwriter</td></tr><tr><td>Ramin Djawadi</td><td>composer</td></tr><tr><td>Gwyneth Paltrow</td><td>cast member</td></tr><tr><td>Clark Gregg</td><td>cast member</td></tr><tr><td>Shaun Toub</td><td>cast member</td></tr><tr><td>Robert Downey Jr.</td><td>cast member</td></tr><tr><td>Samuel L. Jackson</td><td>cast member</td></tr><tr><td>Jeff Bridges</td><td>cast member</td></tr><tr><td>Stan Lee</td><td>cast member</td></tr><tr><td>Leslie Bibb</td><td>cast member</td></tr><tr><td>Paul Bettany</td><td>cast member</td></tr><tr><td>Jon Favreau</td><td>cast member</td></tr><tr><td>Terrence Howard</td><td>cast member</td></tr><tr><td>Tom Morello</td><td>cast member</td></tr><tr><td>Faran Tahir</td><td>cast member</td></tr><tr><td>Joshua Harto</td><td>cast member</td></tr><tr><td>Tim Guinee</td><td>cast member</td></tr><tr><td>Bill Smitrovich</td><td>cast member</td></tr><tr><td>Nazanin Boniadi</td><td>cast member</td></tr><tr><td>Meera Simhan</td><td>cast member</td></tr><tr><td>Sayed Badreya</td><td>cast member</td></tr><tr><td>Dan Lebental</td><td>film editor</td></tr><tr><td>Stan Lee</td><td>executive producer</td></tr><tr><td>Jon Favreau</td><td>executive producer</td></tr><tr><td>Peter Billingsley</td><td>executive producer</td></tr><tr><td>David Maisel</td><td>executive producer</td></tr><tr><td>Louis D'Esposito</td><td>executive producer</td></tr><tr><td>Ari Arad</td><td>executive producer</td></tr><tr><td>Laura Jean Shannon</td><td>costume designer</td></tr><tr><td>Rebecca Bentjen</td><td>costume designer</td></tr><tr><td>J. Michael Riva</td><td>production designer</td></tr><tr><td>Will Lyman</td><td>cast member</td></tr><tr><td>America Olivo</td><td>cast member</td></tr><tr><td>Peter Billingsley</td><td>cast member</td></tr><tr><td>Adam Harrington</td><td>cast member</td></tr><tr><td>Ahmed Ahmed</td><td>cast member</td></tr><tr><td>Jim Cramer</td><td>cast member</td></tr><tr><td>Lauren Scyphers</td><td>cast member</td></tr><tr><td>Marco Khan</td><td>cast member</td></tr><tr><td>Mike Cochrane</td><td>cast member</td></tr><tr><td>Ricki Noel Lander</td><td>cast member</td></tr><tr><td>Gabrielle Tuite</td><td>cast member</td></tr><tr><td>Tim Griffin</td><td>cast member</td></tr><tr><td>James Bethea</td><td>cast member</td></tr><tr><td>Sarah Cahill</td><td>cast member</td></tr><tr><td>Fahim Fazli</td><td>cast member</td></tr><tr><td>Russell Richardson</td><td>cast member</td></tr><tr><td>Micah Hauptman</td><td>cast member</td></tr><tr><td>Masha Lund</td><td>cast member</td></tr><tr><td>Patrick O'Connell</td><td>cast member</td></tr><tr><td>Daston Kalili</td><td>cast member</td></tr><tr><td>Ido Mor</td><td>cast member</td></tr><tr><td>Kevin Foster</td><td>cast member</td></tr><tr><td>Garret Noël</td><td>cast member</td></tr><tr><td>Eileen Weisinger</td><td>cast member</td></tr><tr><td>Lana Kinnear</td><td>cast member</td></tr><tr><td>Nicole Lindeblad</td><td>cast member</td></tr><tr><td>Zorianna Kit</td><td>cast member</td></tr><tr><td>Ben Newmark</td><td>cast member</td></tr><tr><td>Jeannine Kaspar</td><td>cast member</td></tr><tr><td>Stacy Stas Hurst</td><td>cast member</td></tr><tr><td>Gerard Sanders</td><td>cast member</td></tr><tr><td>Tim Rigby</td><td>cast member</td></tr><tr><td>Thomas Craig Plumer</td><td>cast member</td></tr><tr><td>Robert Berkman</td><td>cast member</td></tr><tr><td>Frank Nyi</td><td>cast member</td></tr><tr><td>Marvin Jordan</td><td>cast member</td></tr><tr><td>Donna Evans</td><td>cast member</td></tr><tr><td>Reid Harper</td><td>cast member</td></tr><tr><td>Ava Rose Williams</td><td>cast member</td></tr><tr><td>Summer Kylie Remington</td><td>cast member</td></tr><tr><td>Vladimir Kubr</td><td>cast member</td></tr><tr><td>Callie Croughwell</td><td>cast member</td></tr><tr><td>Javan Tahir</td><td>cast member</td></tr><tr><td>Sahar Bibiyan</td><td>cast member</td></tr><tr><td>Justin Rex</td><td>cast member</td></tr><tr><td>Kevin Feige</td><td>producer</td></tr><tr><td>Avi Arad</td><td>producer</td></tr><tr><td>Lauren Scyphers</td><td>performer</td></tr><tr><td>Stacy Stas Hurst</td><td>performer</td></tr><tr><td>Matthew Libatique</td><td>director of photography</td></tr></tbody></tbody></td></tr><tr><td>uuid</td><td>60bcdbe5705e9af48abd39ad</td></tr></tbody></table>"
      ],
      "text/plain": [
       "<IPython.core.display.HTML object>"
      ]
     },
     "metadata": {},
     "output_type": "display_data"
    }
   ],
   "source": [
    "import data.movies as movies\n",
    "\n",
    "iron_man_movies = movies.get_by_title('Iron Man')\n",
    "\n",
    "table(iron_man_movies)"
   ]
  },
  {
   "cell_type": "markdown",
   "id": "bf6f0018",
   "metadata": {
    "hideCode": false,
    "hidePrompt": false
   },
   "source": [
    "Um diesen Film, sowie die anderen, in der Datenbank befindlichen Einträge um zusätzliche Informationen zu erweitern, muss zunächst ein geeigneter eindeutiger Identifier für einen Film gefunden werden. <br>\n",
    "Dazu eignen sich einige Einträge eines Films besser als andere. <br><br>\n",
    "\n",
    "Frage: Welche der Eigenschaften des (oben sichtbaren) Filmes haltet ihr für sinvoll um online nach Infos zu suchen?<br>\n",
    "Und warum?\n",
    "\n",
    "\n",
    "\n"
   ]
  },
  {
   "cell_type": "markdown",
   "id": "e3829e1a",
   "metadata": {
    "hideCode": false,
    "hidePrompt": false
   },
   "source": [
    "<h3> Suche nach Namen: </h3>"
   ]
  },
  {
   "cell_type": "markdown",
   "id": "b3d34bd8",
   "metadata": {
    "hideCode": false,
    "hidePrompt": false
   },
   "source": [
    "Im folgenden suchen wir zuerst Filme nach Namen"
   ]
  },
  {
   "cell_type": "code",
   "execution_count": 12,
   "id": "65d9a47d",
   "metadata": {
    "hideCode": false,
    "hidePrompt": false
   },
   "outputs": [],
   "source": [
    "from data.sparql import query, data, table, entity_to_json\n",
    "\n",
    "#movie is instance (P31) of film (Q11424)\n",
    "#movie has label ?titel\n",
    "\n",
    "table(query(\n",
    "\"\"\"\n",
    "SELECT *\n",
    "WHERE\n",
    "{\n",
    " ?movie wdt:P31 wd:Q11424 ;\n",
    "        rdfs:label ?title ;\n",
    "  FILTER CONTAINS(?title, \"Iron Man\")\n",
    "  FILTER LANGMATCHES(lang(?title),'en')\n",
    "} \n",
    "\"\"\"\n",
    "))\n"
   ]
  },
  {
   "cell_type": "markdown",
   "id": "9196ea23",
   "metadata": {
    "hideCode": false,
    "hidePrompt": false
   },
   "source": [
    "Hier haben wir viele Ergebnisse, welche ggf. hilfreich sind, wenn der Nutzer im allgemeinen nach Schlagworten sucht.\n",
    "Für die Exploration eines Datensatzes sinnvoll, für die Erweiterung von Daten jedoch nicht geeignet. Hier wollen wir eher ein eindeutiges Attribut haben und der Name allein (ohne weitere Merkmale wie Veröffentlichungsjahr und Regisseur) ist dies nicht."
   ]
  },
  {
   "cell_type": "markdown",
   "id": "405f6528",
   "metadata": {
    "hideCode": false,
    "hidePrompt": false
   },
   "source": [
    "<h3> Suche nach imdb_id: </h3>"
   ]
  },
  {
   "cell_type": "markdown",
   "id": "c4bfa183",
   "metadata": {
    "hideCode": false,
    "hidePrompt": false
   },
   "source": [
    "Die IMDB enthält viele Informationen zu Filmen und listet Filme unter der eigenen ID. <br>\n",
    "Diese IMDB ID kann genutzt werden, um ggf. mehr Daten aus Open Data herauszufinden."
   ]
  },
  {
   "cell_type": "code",
   "execution_count": 13,
   "id": "78469362",
   "metadata": {
    "hideCode": false,
    "hidePrompt": false
   },
   "outputs": [],

   "source": [
    "from data.sparql import query, table\n",
    "\n",
    "table(query(\n",
    "\"\"\"\n",
    "SELECT *\n",
    "WHERE\n",
    "{\n",
    " ?movie wdt:P31 wd:Q11424 ;\n",
    "        wdt:P345 ?imdb_id .\n",
    " FILTER CONTAINS (?imdb_id, \"tt0371746\")\n",
    "} \n",
    "LIMIT 1\n",
    "\"\"\"\n",
    "))\n",
    "\n"
   ]
  },
  {
   "cell_type": "markdown",
   "id": "cb27c5a0",
   "metadata": {
    "hideCode": false,
    "hidePrompt": false
   },
   "source": [
    "Auf WikiData finden wir über die IMDB ID ein Datenobjekt. <br>\n",
    "Als Nutzer können sie auf den Link dieses Datenobjektes klicken und sich die Wikidata-Seite ansehen.\n",
    "Zur maschinellen Verarbeitung kann aber auch das Objekt in als JSON angefragt und dann weiter verarbeitet werden."
   ]
  },
  {
   "cell_type": "code",
   "execution_count": 14,
   "id": "04eb1138",
   "metadata": {
    "hideCode": false,
    "hidePrompt": false
   },
   "outputs": [],

   "source": [
    "from data.sparql import query, data, table, entity_to_json\n",
    "\n",
    "result = query(\n",
    "\"\"\"\n",
    "SELECT *\n",
    "WHERE\n",
    "{\n",
    " ?movie wdt:P31 wd:Q11424 ;\n",
    "        rdfs:label ?title ;\n",
    "        wdt:P345 ?imdb_id .\n",
    "  FILTER CONTAINS(?title, \"Iron Man\")\n",
    "  FILTER LANGMATCHES(lang(?title),'en')\n",
    "} \n",
    "LIMIT 1\n",
    "\"\"\"\n",
    ")\n",
    "\n",
    "# a bit hacky, but it retrieves the id from the wikidata URI, which has the form https://www.wikidata.org/wiki/{id}\n",
    "url = data(result)[0]['movie']\n",
    "entity_id = url.split(\"/\").pop()\n",
    "\n",
    "print(url)\n",
    "entity_to_json(entity_id)"
   ]
  },
  {
   "cell_type": "markdown",
   "id": "a183503a",
   "metadata": {
    "hideCode": false,
    "hidePrompt": false
   },
   "source": [
    "Hier erkennt man, dass wir in diesem JSON Objekt eine große Menge an Daten zum Film erhalten. \n",
    "Wir können hier den Film-Titel in vielen Sprachen angeben, herausfinden, welcher Direktor für den Schnitt des Filmes verantwortlich ist, welche unterschiedlichen Jugendschutz-Label ein Film hat, etc."
   ]
  },
  {
   "cell_type": "markdown",
   "id": "d404a5ff",
   "metadata": {
    "hideCode": false,
    "hidePrompt": false
   },
   "source": [
    "<h3> Einfügen aller Mitwirkenden eines Films </h3>"
   ]
  },
  {
   "cell_type": "code",
   "execution_count": 4,
   "id": "d69e2bf0",
   "metadata": {
    "hideCode": false,
    "hidePrompt": false
   },
   "outputs": [],
   "source": [
    "from data.sparql import query, data, table, entity_to_json\n",
    "\n",
    "result = query(\n",
    "\"\"\"\n",
    "SELECT *\n",
    "WHERE\n",
    "{\n",
    " ?movie wdt:P31 wd:Q11424 ;\n",
    "        rdfs:label ?title ;\n",
    "        wdt:P345 ?imdb_id .\n",
    "  FILTER CONTAINS(?title, \"Iron Man\")\n",
    "  FILTER LANGMATCHES(lang(?title),'en')\n",
    "} \n",
    "LIMIT 1\n",
    "\"\"\"\n",
    ")"
   ]
  },
  {
   "cell_type": "markdown",
   "id": "c5b65d53",
   "metadata": {
    "hideCode": false,
    "hidePrompt": false
   },
   "source": [
    "Einige der Eigenschaften sind jedoch über ihre Wikidata-ID aufgelistet. Diese muss aufgelöst werden, um menschenverständliche Daten zu erhalten, also z.B. das es sich bei 'P345' um eine 'IMDB ID' handelt. "
   ]
  },
  {
   "cell_type": "code",
   "execution_count": 16,
   "id": "0a486cd9",
   "metadata": {
    "hideCode": false,
    "hidePrompt": false
   },
   "outputs": [
    {
     "data": {
      "text/markdown": [
       "| titleLabel |castLabel |property |propLabel |\n",
       "| --- | --- | --- | --- |\n",
       "| Iron Man |Matthew Libatique |http://www.wikidata.org/prop/direct/P344 |director of photography |\n",
       "| Iron Man |Gwyneth Paltrow |http://www.wikidata.org/prop/direct/P161 |cast member |\n",
       "| Iron Man |Ramin Djawadi |http://www.wikidata.org/prop/direct/P86 |composer |\n",
       "| Iron Man |Clark Gregg |http://www.wikidata.org/prop/direct/P161 |cast member |\n",
       "| Iron Man |Shaun Toub |http://www.wikidata.org/prop/direct/P161 |cast member |\n",
       "| Iron Man |Robert Downey Jr. |http://www.wikidata.org/prop/direct/P161 |cast member |\n",
       "| Iron Man |Samuel L. Jackson |http://www.wikidata.org/prop/direct/P161 |cast member |\n",
       "| Iron Man |Jeff Bridges |http://www.wikidata.org/prop/direct/P161 |cast member |\n",
       "| Iron Man |Stan Lee |http://www.wikidata.org/prop/direct/P161 |cast member |\n",
       "| Iron Man |Leslie Bibb |http://www.wikidata.org/prop/direct/P161 |cast member |\n",
       "| Iron Man |Paul Bettany |http://www.wikidata.org/prop/direct/P161 |cast member |\n",
       "| Iron Man |Jon Favreau |http://www.wikidata.org/prop/direct/P57 |director |\n",
       "| Iron Man |Jon Favreau |http://www.wikidata.org/prop/direct/P161 |cast member |\n",
       "| Iron Man |Terrence Howard |http://www.wikidata.org/prop/direct/P161 |cast member |\n",
       "| Iron Man |Tom Morello |http://www.wikidata.org/prop/direct/P161 |cast member |\n",
       "| Iron Man |Faran Tahir |http://www.wikidata.org/prop/direct/P161 |cast member |\n",
       "| Iron Man |Joshua Harto |http://www.wikidata.org/prop/direct/P161 |cast member |\n",
       "| Iron Man |Mark Fergus |http://www.wikidata.org/prop/direct/P58 |screenwriter |\n",
       "| Iron Man |Tim Guinee |http://www.wikidata.org/prop/direct/P161 |cast member |\n",
       "| Iron Man |Bill Smitrovich |http://www.wikidata.org/prop/direct/P161 |cast member |\n",
       "| Iron Man |Nazanin Boniadi |http://www.wikidata.org/prop/direct/P161 |cast member |\n",
       "| Iron Man |Meera Simhan |http://www.wikidata.org/prop/direct/P161 |cast member |\n",
       "| Iron Man |Sayed Badreya |http://www.wikidata.org/prop/direct/P161 |cast member |\n",
       "| Iron Man |Hawk Ostby |http://www.wikidata.org/prop/direct/P58 |screenwriter |\n",
       "| Iron Man |Art Marcum |http://www.wikidata.org/prop/direct/P58 |screenwriter |\n",
       "| Iron Man |Matt Holloway |http://www.wikidata.org/prop/direct/P58 |screenwriter |\n",
       "| Iron Man |Kevin Feige |http://www.wikidata.org/prop/direct/P162 |producer |\n",
       "| Iron Man |Avi Arad |http://www.wikidata.org/prop/direct/P162 |producer |\n",
       "| Iron Man |Will Lyman |http://www.wikidata.org/prop/direct/P161 |cast member |\n",
       "| Iron Man |America Olivo |http://www.wikidata.org/prop/direct/P161 |cast member |\n",
       "| Iron Man |Peter Billingsley |http://www.wikidata.org/prop/direct/P161 |cast member |\n",
       "| Iron Man |Adam Harrington |http://www.wikidata.org/prop/direct/P161 |cast member |\n",
       "| Iron Man |Ahmed Ahmed |http://www.wikidata.org/prop/direct/P161 |cast member |\n",
       "| Iron Man |Jim Cramer |http://www.wikidata.org/prop/direct/P161 |cast member |\n",
       "| Iron Man |Lauren Scyphers |http://www.wikidata.org/prop/direct/P161 |cast member |\n",
       "| Iron Man |Lauren Scyphers |http://www.wikidata.org/prop/direct/P175 |performer |\n",
       "| Iron Man |Marco Khan |http://www.wikidata.org/prop/direct/P161 |cast member |\n",
       "| Iron Man |Mike Cochrane |http://www.wikidata.org/prop/direct/P161 |cast member |\n",
       "| Iron Man |Ricki Noel Lander |http://www.wikidata.org/prop/direct/P161 |cast member |\n",
       "| Iron Man |Gabrielle Tuite |http://www.wikidata.org/prop/direct/P161 |cast member |\n",
       "| Iron Man |Tim Griffin |http://www.wikidata.org/prop/direct/P161 |cast member |\n",
       "| Iron Man |James Bethea |http://www.wikidata.org/prop/direct/P161 |cast member |\n",
       "| Iron Man |Sarah Cahill |http://www.wikidata.org/prop/direct/P161 |cast member |\n",
       "| Iron Man |Fahim Fazli |http://www.wikidata.org/prop/direct/P161 |cast member |\n",
       "| Iron Man |Russell Richardson |http://www.wikidata.org/prop/direct/P161 |cast member |\n",
       "| Iron Man |Micah Hauptman |http://www.wikidata.org/prop/direct/P161 |cast member |\n",
       "| Iron Man |Masha Lund |http://www.wikidata.org/prop/direct/P161 |cast member |\n",
       "| Iron Man |Patrick O'Connell |http://www.wikidata.org/prop/direct/P161 |cast member |\n",
       "| Iron Man |Daston Kalili |http://www.wikidata.org/prop/direct/P161 |cast member |\n",
       "| Iron Man |Ido Mor |http://www.wikidata.org/prop/direct/P161 |cast member |\n",
       "| Iron Man |Kevin Foster |http://www.wikidata.org/prop/direct/P161 |cast member |\n",
       "| Iron Man |Garret Noël |http://www.wikidata.org/prop/direct/P161 |cast member |\n",
       "| Iron Man |Eileen Weisinger |http://www.wikidata.org/prop/direct/P161 |cast member |\n",
       "| Iron Man |Lana Kinnear |http://www.wikidata.org/prop/direct/P161 |cast member |\n",
       "| Iron Man |Nicole Lindeblad |http://www.wikidata.org/prop/direct/P161 |cast member |\n",
       "| Iron Man |Zorianna Kit |http://www.wikidata.org/prop/direct/P161 |cast member |\n",
       "| Iron Man |Ben Newmark |http://www.wikidata.org/prop/direct/P161 |cast member |\n",
       "| Iron Man |Jeannine Kaspar |http://www.wikidata.org/prop/direct/P161 |cast member |\n",
       "| Iron Man |Stacy Stas Hurst |http://www.wikidata.org/prop/direct/P161 |cast member |\n",
       "| Iron Man |Stacy Stas Hurst |http://www.wikidata.org/prop/direct/P175 |performer |\n",
       "| Iron Man |Gerard Sanders |http://www.wikidata.org/prop/direct/P161 |cast member |\n",
       "| Iron Man |Tim Rigby |http://www.wikidata.org/prop/direct/P161 |cast member |\n",
       "| Iron Man |Thomas Craig Plumer |http://www.wikidata.org/prop/direct/P161 |cast member |\n",
       "| Iron Man |Robert Berkman |http://www.wikidata.org/prop/direct/P161 |cast member |\n",
       "| Iron Man |Frank Nyi |http://www.wikidata.org/prop/direct/P161 |cast member |\n",
       "| Iron Man |Marvin Jordan |http://www.wikidata.org/prop/direct/P161 |cast member |\n",
       "| Iron Man |Donna Evans |http://www.wikidata.org/prop/direct/P161 |cast member |\n",
       "| Iron Man |Reid Harper |http://www.wikidata.org/prop/direct/P161 |cast member |\n",
       "| Iron Man |Ava Rose Williams |http://www.wikidata.org/prop/direct/P161 |cast member |\n",
       "| Iron Man |Summer Kylie Remington |http://www.wikidata.org/prop/direct/P161 |cast member |\n",
       "| Iron Man |Vladimir Kubr |http://www.wikidata.org/prop/direct/P161 |cast member |\n",
       "| Iron Man |Callie Croughwell |http://www.wikidata.org/prop/direct/P161 |cast member |\n",
       "| Iron Man |Javan Tahir |http://www.wikidata.org/prop/direct/P161 |cast member |\n",
       "| Iron Man |Sahar Bibiyan |http://www.wikidata.org/prop/direct/P161 |cast member |\n",
       "| Iron Man |Justin Rex |http://www.wikidata.org/prop/direct/P161 |cast member |\n",
       "| Iron Man |Stan Lee |http://www.wikidata.org/prop/direct/P1431 |executive producer |\n",
       "| Iron Man |Jon Favreau |http://www.wikidata.org/prop/direct/P1431 |executive producer |\n",
       "| Iron Man |J. Michael Riva |http://www.wikidata.org/prop/direct/P2554 |production designer |\n",
       "| Iron Man |Dan Lebental |http://www.wikidata.org/prop/direct/P1040 |film editor |\n",
       "| Iron Man |Peter Billingsley |http://www.wikidata.org/prop/direct/P1431 |executive producer |\n",
       "| Iron Man |David Maisel |http://www.wikidata.org/prop/direct/P1431 |executive producer |\n",
       "| Iron Man |Louis D'Esposito |http://www.wikidata.org/prop/direct/P1431 |executive producer |\n",
       "| Iron Man |Ari Arad |http://www.wikidata.org/prop/direct/P1431 |executive producer |\n",
       "| Iron Man |Laura Jean Shannon |http://www.wikidata.org/prop/direct/P2515 |costume designer |\n",
       "| Iron Man |Rebecca Bentjen |http://www.wikidata.org/prop/direct/P2515 |costume designer |\n"
      ],
      "text/plain": [
       "<IPython.core.display.Markdown object>"

      ]
     },
     "metadata": {},
     "output_type": "display_data"
    },
    {
     "data": {
      "text/plain": [
       "'showing 85 results'"
      ]
     },
     "execution_count": 16,
     "metadata": {},
     "output_type": "execute_result"
    }
   ],
   "source": [
    "from data.sparql import query, data, table, entity_to_json\n",
    "\n",
    "result = query(\n",
    "\"\"\"\n",
    "SELECT ?titleLabel ?castLabel ?property ?propLabel\n",
    "WHERE {\n",
    "    ?title wdt:P345 \"tt0371746\". #P345 = IMDb-ID \n",
    "    ?title ?property ?cast .     # übernehme alle Parameter des Films als Vairablen\n",
    "    ?cast wdt:P31 wd:Q5 .        # P31 = isInstanceOf Q5: human\n",
    "\n",
    "    # get the property label\n",
    "    ?prop wikibase:directClaim ?property .\n",
    "\n",
    "    SERVICE wikibase:label { bd:serviceParam wikibase:language \"en\". }\n",
    "}\n",
    "\"\"\"\n",
    ")\n",
    "\n",
    "table (result)"
   ]
  },
  {
   "cell_type": "markdown",
   "id": "586d9dc3",
   "metadata": {
    "hideCode": false,
    "hidePrompt": false
   },
   "source": [
    "Die so abgerufene Liste an Schauspielern bzw. Mitwirkenden dieses Films wird nun dem Datensatz der lokalen Datenbank hinzugefügt. Dazu werden die Daten zunächst aufbereitet und dann in dem Datensatz gespeichert."
   ]
  },
  {
   "cell_type": "markdown",
   "id": "3b5c617c",
   "metadata": {
    "hideCode": false,
    "hidePrompt": false,
    "scrolled": false
   },
   "source": [
    "Der Datensatz enthält daraufhin die Schauspieler als ein weiteres Attribut:"
   ]
  },
  {
   "cell_type": "code",
   "execution_count": 17,
   "id": "b39ba40a",
   "metadata": {
    "hideCode": false,
    "hidePrompt": false
   },
   "outputs": [
    {
     "ename": "KeyError",
     "evalue": "'head'",
     "output_type": "error",
     "traceback": [
      "\u001b[0;31m---------------------------------------------------------------------------\u001b[0m",
      "\u001b[0;31mKeyError\u001b[0m                                  Traceback (most recent call last)",
      "\u001b[0;32m<ipython-input-17-0b3f407755b8>\u001b[0m in \u001b[0;36m<module>\u001b[0;34m\u001b[0m\n\u001b[1;32m     29\u001b[0m \u001b[0mmovies\u001b[0m\u001b[0;34m.\u001b[0m\u001b[0madd_data_by_title\u001b[0m\u001b[0;34m(\u001b[0m\u001b[0;34m\"Iron Man\"\u001b[0m\u001b[0;34m,\u001b[0m \u001b[0mdict\u001b[0m\u001b[0;34m)\u001b[0m\u001b[0;34m\u001b[0m\u001b[0;34m\u001b[0m\u001b[0m\n\u001b[1;32m     30\u001b[0m \u001b[0;34m\u001b[0m\u001b[0m\n\u001b[0;32m---> 31\u001b[0;31m \u001b[0mtable\u001b[0m\u001b[0;34m(\u001b[0m\u001b[0mmovies\u001b[0m\u001b[0;34m.\u001b[0m\u001b[0mget_by_title\u001b[0m\u001b[0;34m(\u001b[0m\u001b[0;34m'Iron Man'\u001b[0m\u001b[0;34m)\u001b[0m\u001b[0;34m)\u001b[0m\u001b[0;34m\u001b[0m\u001b[0;34m\u001b[0m\u001b[0m\n\u001b[0m",
      "\u001b[0;32m~/data/sparql.py\u001b[0m in \u001b[0;36mtable\u001b[0;34m(result)\u001b[0m\n\u001b[1;32m     16\u001b[0m \u001b[0;34m\u001b[0m\u001b[0m\n\u001b[1;32m     17\u001b[0m \u001b[0;32mdef\u001b[0m \u001b[0mtable\u001b[0m\u001b[0;34m(\u001b[0m\u001b[0mresult\u001b[0m\u001b[0;34m)\u001b[0m\u001b[0;34m:\u001b[0m\u001b[0;34m\u001b[0m\u001b[0;34m\u001b[0m\u001b[0m\n\u001b[0;32m---> 18\u001b[0;31m     \u001b[0mvars\u001b[0m \u001b[0;34m=\u001b[0m \u001b[0mresult\u001b[0m\u001b[0;34m[\u001b[0m\u001b[0;34m'head'\u001b[0m\u001b[0;34m]\u001b[0m\u001b[0;34m[\u001b[0m\u001b[0;34m'vars'\u001b[0m\u001b[0;34m]\u001b[0m\u001b[0;34m\u001b[0m\u001b[0;34m\u001b[0m\u001b[0m\n\u001b[0m\u001b[1;32m     19\u001b[0m     \u001b[0mthead\u001b[0m \u001b[0;34m=\u001b[0m \u001b[0;34m\"| \"\u001b[0m\u001b[0;34m\u001b[0m\u001b[0;34m\u001b[0m\u001b[0m\n\u001b[1;32m     20\u001b[0m     \u001b[0;32mfor\u001b[0m \u001b[0mth\u001b[0m \u001b[0;32min\u001b[0m \u001b[0mvars\u001b[0m\u001b[0;34m:\u001b[0m\u001b[0;34m\u001b[0m\u001b[0;34m\u001b[0m\u001b[0m\n",
      "\u001b[0;31mKeyError\u001b[0m: 'head'"
     ]
    }
   ],
   "source": [
    "from data.sparql import query, data, table, entity_to_json\n",
    "import data.movies as movies\n",
    "\n",
    "\n",
    "result = query(\n",
    "\"\"\"\n",
    "SELECT ?titleLabel ?castLabel ?property ?propLabel\n",
    "WHERE {\n",
    "    ?title wdt:P345 \"tt0371746\". #P345 = IMDb-ID \n",
    "    ?title ?property ?cast .     # übernehme alle Parameter des Films als Vairablen\n",
    "    ?cast wdt:P31 wd:Q5 .        # P31 = isInstanceOf Q5: human\n",
    "\n",
    "    # get the property label\n",
    "    ?prop wikibase:directClaim ?property .\n",
    "\n",
    "    SERVICE wikibase:label { bd:serviceParam wikibase:language \"en\". }\n",
    "}\n",
    "\"\"\"\n",
    ")\n",
    "\n",
    "dict = {\"cast_members\": [{\"name\": cast[\"castLabel\"][\"value\"], \"role\": cast[\"propLabel\"][\"value\"]} for cast in result[\"results\"][\"bindings\"]]}\n",
    "#print (dict)\n",
    "\n",
    "\n",
    "movies.add_data_by_title(\"Iron Man\", dict)\n",
    "\n",
    "table(movies.get_by_title('Iron Man'))"
   ]
  },
  {
   "cell_type": "markdown",
   "id": "47eac922",
   "metadata": {
    "hideCode": false,
    "hidePrompt": false
   },
   "source": [
    "Dieser Vorgang kann nun automatisiert für alle Einträge der lokalen Datenbank durchlaufen werden. "
   ]
  },
  {
   "cell_type": "code",
   "execution_count": null,
   "id": "2004f9f1",
   "metadata": {},
   "outputs": [
    {
     "name": "stdout",
     "output_type": "stream",
     "text": [
      "handled movie: 'Toy Story' with imdb tt0114709\n",
      "handled movie: 'Jumanji' with imdb tt0113497\n",
      "handled movie: 'Grumpier Old Men' with imdb tt0113228\n",
      "handled movie: 'Waiting to Exhale' with imdb tt0114885\n",
      "handled movie: 'Father of the Bride Part II' with imdb tt0113041\n",
      "handled movie: 'Heat' with imdb tt0113277\n",
      "handled movie: 'Sabrina' with imdb tt0114319\n",
      "handled movie: 'Tom and Huck' with imdb tt0112302\n",
      "handled movie: 'Sudden Death' with imdb tt0114576\n",
      "handled movie: 'GoldenEye' with imdb tt0113189\n",
      "handled movie: 'The American President' with imdb tt0112346\n",
      "handled movie: 'Dracula: Dead and Loving It' with imdb tt0112896\n",
      "handled movie: 'Balto' with imdb tt0112453\n",
      "handled movie: 'Nixon' with imdb tt0113987\n",
      "handled movie: 'Cutthroat Island' with imdb tt0112760\n",
      "handled movie: 'Casino' with imdb tt0112641\n",
      "handled movie: 'Sense and Sensibility' with imdb tt0114388\n",
      "handled movie: 'Four Rooms' with imdb tt0113101\n",
      "handled movie: 'Ace Ventura: When Nature Calls' with imdb tt0112281\n",
      "handled movie: 'Money Train' with imdb tt0113845\n",
      "handled movie: 'Get Shorty' with imdb tt0113161\n",
      "handled movie: 'Copycat' with imdb tt0112722\n",
      "handled movie: 'Assassins' with imdb tt0112401\n",
      "handled movie: 'Powder' with imdb tt0114168\n",
      "handled movie: 'Leaving Las Vegas' with imdb tt0113627\n",
      "handled movie: 'Othello' with imdb tt0114057\n",
      "handled movie: 'Now and Then' with imdb tt0114011\n",
      "handled movie: 'Persuasion' with imdb tt0114117\n",
      "handled movie: 'La Cité des Enfants Perdus' with imdb tt0112682\n",
      "handled movie: '摇啊摇，摇到外婆桥' with imdb tt0115012\n",
      "handled movie: 'Dangerous Minds' with imdb tt0112792\n",
      "handled movie: 'Twelve Monkeys' with imdb tt0114746\n",
      "handled movie: 'Guillaumet, les ailes du courage' with imdb tt0114952\n",
      "handled movie: 'Babe' with imdb tt0112431\n",
      "handled movie: 'Carrington' with imdb tt0112637\n",
      "handled movie: 'Dead Man Walking' with imdb tt0112818\n",
      "handled movie: 'Across the Sea of Time' with imdb tt0112286\n",
      "handled movie: 'It Takes Two' with imdb tt0113442\n",
      "handled movie: 'Clueless' with imdb tt0112697\n",
      "handled movie: 'Cry, the Beloved Country' with imdb tt0112749\n",
      "handled movie: 'Richard III' with imdb tt0114279\n",
      "handled movie: 'Dead Presidents' with imdb tt0112819\n",
      "handled movie: 'Restoration' with imdb tt0114272\n",
      "handled movie: 'Mortal Kombat' with imdb tt0113855\n",
      "handled movie: 'To Die For' with imdb tt0114681\n",
      "handled movie: 'How To Make An American Quilt' with imdb tt0113347\n",
      "handled movie: 'Se7en' with imdb tt0114369\n",
      "handled movie: 'Pocahontas' with imdb tt0114148\n",
      "handled movie: 'When Night Is Falling' with imdb tt0114916\n",
      "handled movie: 'The Usual Suspects' with imdb tt0114814\n",
      "handled movie: 'Guardian Angel' with imdb tt0109950\n",
      "handled movie: 'Mighty Aphrodite' with imdb tt0113819\n",
      "handled movie: 'Lamerica' with imdb tt0110299\n",
      "handled movie: 'The Big Green' with imdb tt0112499\n",
      "handled movie: 'Georgia' with imdb tt0113158\n",
      "handled movie: 'Kids of the Round Table' with imdb tt0113541\n",
      "handled movie: 'Home for the Holidays' with imdb tt0113321\n",
      "handled movie: 'Il postino' with imdb tt0110877\n",
      "handled movie: 'Le confessionnal' with imdb tt0112714\n",
      "handled movie: 'The Indian in the Cupboard' with imdb tt0113419\n",
      "handled movie: 'Eye for an Eye' with imdb tt0116260\n",
      "handled movie: 'Mr. Holland's Opus' with imdb tt0113862\n",
      "handled movie: 'Don't Be a Menace to South Central While Drinking Your Juice in the Hood' with imdb tt0116126\n",
      "handled movie: 'Two If by Sea' with imdb tt0118002\n",
      "handled movie: 'Bio-Dome' with imdb tt0115683\n",
      "handled movie: 'Lawnmower Man 2: Beyond Cyberspace' with imdb tt0116839\n",
      "handled movie: 'Two Bits' with imdb tt0114753\n",
      "handled movie: 'Gazon maudit' with imdb tt0113149\n",
      "handled movie: 'Friday' with imdb tt0113118\n",
      "handled movie: 'From Dusk Till Dawn' with imdb tt0116367\n",
      "handled movie: 'Fair Game' with imdb tt0113010\n",
      "handled movie: 'Kicking and Screaming' with imdb tt0113537\n",
      "handled movie: 'Les misérables' with imdb tt0113828\n",
      "handled movie: 'Bed of Roses' with imdb tt0115644\n",
      "handled movie: 'Big Bully' with imdb tt0115676\n",
      "handled movie: 'Screamers' with imdb tt0114367\n",
      "handled movie: 'Nico Icon' with imdb tt0113973\n",
      "handled movie: 'The Crossing Guard' with imdb tt0112744\n",
      "handled movie: 'The Juror' with imdb tt0116731\n",
      "handled movie: 'بادکنک سفید' with imdb tt0112445\n",
      "handled movie: 'Things to Do in Denver When You're Dead' with imdb tt0114660\n",
      "handled movie: 'Antonia' with imdb tt0112379\n",
      "handled movie: 'Once Upon a Time... When We Were Colored' with imdb tt0114039\n",
      "handled movie: 'Last Summer in the Hamptons' with imdb tt0113612\n",
      "handled movie: 'Angels and Insects' with imdb tt0112365\n",
      "handled movie: 'White Squall' with imdb tt0118158\n",
      "handled movie: 'Dunston Checks In' with imdb tt0116151\n",
      "handled movie: 'Black Sheep' with imdb tt0115697\n",
      "handled movie: 'Nick of Time' with imdb tt0113972\n",
      "handled movie: 'The Journey of August King' with imdb tt0113490\n",
      "handled movie: 'Mary Reilly' with imdb tt0117002\n",
      "handled movie: 'Vampire in Brooklyn' with imdb tt0114825\n",
      "handled movie: 'Beautiful Girls' with imdb tt0115639\n",
      "handled movie: 'Broken Arrow' with imdb tt0115759\n",
      "handled movie: 'A Midwinter's Tale' with imdb tt0113403\n",
      "handled movie: 'La Haine' with imdb tt0113247\n",
      "handled movie: 'Shopping' with imdb tt0111173\n",
      "handled movie: 'Heidi Fleiss: Hollywood Madam' with imdb tt0113283\n",
      "handled movie: 'City Hall' with imdb tt0115907\n",
      "handled movie: 'Bottle Rocket' with imdb tt0115734\n",
      "handled movie: 'Mr. Wrong' with imdb tt0117102\n",
      "handled movie: 'Unforgettable' with imdb tt0118040\n",
      "handled movie: 'Happy Gilmore' with imdb tt0116483\n",
      "handled movie: 'The Bridges of Madison County' with imdb tt0112579\n",
      "handled movie: 'Keiner liebt mich' with imdb tt0110251\n",
      "handled movie: 'Muppet Treasure Island' with imdb tt0117110\n",
      "handled movie: 'Catwalk' with imdb tt0112646\n",
      "handled movie: 'Headless Body in Topless Bar' with imdb tt0113276\n",
      "handled movie: 'Braveheart' with imdb tt0112573\n",
      "handled movie: 'Taxi Driver' with imdb tt0075314\n",
      "handled movie: '紅番區' with imdb tt0113326\n",
      "handled movie: 'Before and After' with imdb tt0115645\n",
      "handled movie: 'Margaret's Museum' with imdb tt0113774\n",
      "handled movie: 'Le Bonheur est dans le pré' with imdb tt0112556\n",
      "handled movie: 'Anne Frank Remembered' with imdb tt0112373\n",
      "handled movie: 'The Young Poisoner's Handbook' with imdb tt0115033\n",
      "handled movie: 'If Lucy Fell' with imdb tt0116606\n",
      "handled movie: 'Steal Big Steal Little' with imdb tt0114536\n",
      "handled movie: 'Race the Sun' with imdb tt0117427\n",
      "handled movie: 'The Boys of St. Vincent' with imdb tt0106473\n",
      "handled movie: 'Boomerang' with imdb tt0103859\n",
      "handled movie: '重慶森林' with imdb tt0109424\n",
      "handled movie: 'L'uomo delle stelle' with imdb tt0114808\n",
      "handled movie: 'Flirting with Disaster' with imdb tt0116324\n",
      "handled movie: 'The NeverEnding Story III' with imdb tt0110647\n",
      "handled movie: 'صمت القصور' with imdb tt0111055\n",
      "handled movie: 'Jupiter's Wife' with imdb tt0110217\n",
      "handled movie: 'Pie in the Sky' with imdb tt0114131\n",
      "handled movie: 'Angela' with imdb tt0112364\n",
      "handled movie: 'Frankie Starlight' with imdb tt0113107\n",
      "handled movie: 'Jade' with imdb tt0113451\n",
      "handled movie: 'Nueba Yol' with imdb tt0114015\n",
      "handled movie: 'Sonic Outlaws' with imdb tt0114500\n",
      "handled movie: 'Down Periscope' with imdb tt0116130\n",
      "handled movie: 'From the Journals of Jean Seberg' with imdb tt0113125\n",
      "handled movie: 'Man of the Year' with imdb tt0113756\n",
      "handled movie: 'The Neon Bible' with imdb tt0113952\n",
      "handled movie: 'Target' with imdb tt0114618\n",
      "handled movie: 'Up Close & Personal' with imdb tt0118055\n",
      "handled movie: 'The Birdcage' with imdb tt0115685\n",
      "handled movie: 'Gospa' with imdb tt0113200\n",
      "handled movie: 'The Brothers McMullen' with imdb tt0112585\n",
      "handled movie: 'Bad Boys' with imdb tt0112442\n",
      "handled movie: 'The Amazing Panda Adventure' with imdb tt0112342\n",
      "handled movie: 'The Basketball Diaries' with imdb tt0112461\n",
      "handled movie: 'An Awfully Big Adventure' with imdb tt0112427\n",
      "handled movie: 'Amateur' with imdb tt0109093\n",
      "handled movie: 'Apollo 13' with imdb tt0112384\n",
      "handled movie: 'Rob Roy' with imdb tt0114287\n",
      "handled movie: 'The Addiction' with imdb tt0112288\n",
      "handled movie: 'Batman Forever' with imdb tt0112462\n",
      "handled movie: 'Belle de jour' with imdb tt0061395\n",
      "handled movie: 'Beyond Rangoon' with imdb tt0112495\n",
      "handled movie: 'Blue in the Face' with imdb tt0112541\n",
      "handled movie: 'Canadian Bacon' with imdb tt0109370\n"
     ]
    },
    {
     "name": "stdout",
     "output_type": "stream",
     "text": [
      "handled movie: 'Casper' with imdb tt0112642\n",
      "handled movie: 'Clockers' with imdb tt0112688\n",
      "handled movie: 'Congo' with imdb tt0112715\n",
      "handled movie: 'Crimson Tide' with imdb tt0112740\n",
      "handled movie: 'Crumb' with imdb tt0109508\n",
      "handled movie: 'Desperado' with imdb tt0112851\n",
      "handled movie: 'Devil in a Blue Dress' with imdb tt0112857\n",
      "handled movie: 'Die Hard: With a Vengeance' with imdb tt0112864\n",
      "handled movie: 'The Doom Generation' with imdb tt0112887\n",
      "handled movie: 'Feast of July' with imdb tt0113044\n",
      "handled movie: 'First Knight' with imdb tt0113071\n",
      "handled movie: 'Free Willy 2 - The Adventure Home' with imdb tt0113114\n",
      "handled movie: 'Hackers' with imdb tt0113243\n",
      "handled movie: 'Jeffrey' with imdb tt0113464\n",
      "handled movie: 'Johnny Mnemonic' with imdb tt0113481\n",
      "handled movie: 'Judge Dredd' with imdb tt0113492\n",
      "handled movie: 'Jury Duty' with imdb tt0113500\n",
      "handled movie: 'Kids' with imdb tt0113540\n",
      "handled movie: 'Living in Oblivion' with imdb tt0113677\n",
      "handled movie: 'Lord of Illusions' with imdb tt0113690\n",
      "handled movie: 'Love & Human Remains' with imdb tt0107447\n",
      "handled movie: 'Mad Love' with imdb tt0113729\n",
      "handled movie: 'Mallrats' with imdb tt0113749\n",
      "handled movie: 'Mighty Morphin Power Rangers: The Movie' with imdb tt0113820\n",
      "handled movie: 'Moonlight and Valentino' with imdb tt0113851\n",
      "handled movie: 'Mute Witness' with imdb tt0110604\n",
      "handled movie: 'Nadja' with imdb tt0110620\n",
      "handled movie: 'The Net' with imdb tt0113957\n",
      "handled movie: 'Nine Months' with imdb tt0113986\n",
      "handled movie: 'Party Girl' with imdb tt0114095\n",
      "handled movie: 'The Prophecy' with imdb tt0114194\n",
      "handled movie: 'Reckless' with imdb tt0114241\n",
      "handled movie: 'Safe' with imdb tt0114323\n",
      "handled movie: 'The Scarlet Letter' with imdb tt0114345\n",
      "handled movie: 'The Show' with imdb tt0114435\n",
      "handled movie: 'Showgirls' with imdb tt0114436\n",
      "handled movie: 'Smoke' with imdb tt0114478\n",
      "handled movie: 'Something to Talk About' with imdb tt0114496\n",
      "handled movie: 'Species' with imdb tt0114508\n",
      "handled movie: 'The Stars Fell on Henrietta' with imdb tt0114534\n",
      "handled movie: 'Strange Days' with imdb tt0114558\n",
      "handled movie: 'Les parapluies de Cherbourg' with imdb tt0058450\n",
      "handled movie: 'The Tie That Binds' with imdb tt0114666\n",
      "handled movie: 'Three Wishes' with imdb tt0114663\n",
      "handled movie: 'Total Eclipse' with imdb tt0114702\n",
      "handled movie: 'To Wong Foo, Thanks for Everything! Julie Newmar' with imdb tt0114682\n",
      "handled movie: 'Under Siege 2: Dark Territory' with imdb tt0114781\n",
      "handled movie: 'Unstrung Heroes' with imdb tt0114798\n",
      "handled movie: 'Unzipped' with imdb tt0114805\n",
      "handled movie: 'A Walk in the Clouds' with imdb tt0114887\n",
      "handled movie: 'Waterworld' with imdb tt0114898\n",
      "handled movie: 'White Man's Burden' with imdb tt0114928\n",
      "handled movie: 'Wild Bill' with imdb tt0114938\n",
      "handled movie: 'The Browning Version' with imdb tt0109340\n",
      "handled movie: 'Bushwhacked' with imdb tt0112602\n",
      "handled movie: 'Утомлённые солнцем' with imdb tt0111579\n",
      "handled movie: 'Before the Rain' with imdb tt0110882\n",
      "handled movie: 'Before Sunrise' with imdb tt0112471\n",
      "handled movie: 'Billy Madison' with imdb tt0112508\n",
      "handled movie: 'The Babysitter' with imdb tt0112438\n",
      "handled movie: 'Boys on the Side' with imdb tt0112571\n",
      "handled movie: 'The Cure' with imdb tt0112757\n",
      "handled movie: 'Castle Freak' with imdb tt0112643\n",
      "handled movie: 'Circle of Friends' with imdb tt0112679\n",
      "handled movie: 'Clerks' with imdb tt0109445\n",
      "handled movie: 'Don Juan DeMarco' with imdb tt0112883\n",
      "handled movie: 'Disclosure' with imdb tt0109635\n",
      "handled movie: 'Dream Man' with imdb tt0112899\n",
      "handled movie: 'Drop Zone' with imdb tt0109676\n",
      "handled movie: 'Destiny Turns on the Radio' with imdb tt0112854\n",
      "handled movie: 'Death and the Maiden' with imdb tt0109579\n",
      "handled movie: 'Dolores Claiborne' with imdb tt0109642\n",
      "handled movie: 'Dumb and Dumber' with imdb tt0109686\n",
      "handled movie: '飲食男女' with imdb tt0111797\n",
      "handled movie: 'Exotica' with imdb tt0109759\n",
      "handled movie: 'Exit to Eden' with imdb tt0109758\n",
      "handled movie: 'Ed Wood' with imdb tt0109707\n",
      "handled movie: 'French Kiss' with imdb tt0113117\n",
      "handled movie: 'Forget Paris' with imdb tt0113097\n",
      "handled movie: 'Far from Home: The Adventures of Yellow Dog' with imdb tt0113028\n",
      "handled movie: 'A Goofy Movie' with imdb tt0113198\n",
      "handled movie: 'Hideaway' with imdb tt0113303\n",
      "handled movie: 'Fluke' with imdb tt0113089\n",
      "handled movie: 'Farinelli' with imdb tt0109771\n",
      "handled movie: 'Gordy' with imdb tt0113199\n",
      "handled movie: 'Gumby: The Movie' with imdb tt0113234\n",
      "handled movie: 'The Glass Shield' with imdb tt0109906\n",
      "handled movie: 'Hoop Dreams' with imdb tt0110057\n",
      "handled movie: 'Heavenly Creatures' with imdb tt0110005\n",
      "handled movie: 'Houseguest' with imdb tt0110066\n",
      "handled movie: 'Immortal Beloved' with imdb tt0110116\n",
      "handled movie: 'Heavyweights' with imdb tt0110006\n",
      "handled movie: 'The Hunted' with imdb tt0113360\n",
      "handled movie: 'I.Q.' with imdb tt0110099\n",
      "handled movie: 'Interview with the Vampire' with imdb tt0110148\n",
      "handled movie: 'Jefferson in Paris' with imdb tt0113463\n",
      "handled movie: 'The Jerky Boys' with imdb tt0110189\n",
      "handled movie: 'Junior' with imdb tt0110216\n",
      "handled movie: 'Just Cause' with imdb tt0113501\n",
      "handled movie: 'A Kid in King Arthur's Court' with imdb tt0113538\n",
      "handled movie: 'Kiss of Death' with imdb tt0113552\n",
      "handled movie: 'Star Wars' with imdb tt0076759\n",
      "handled movie: 'Little Women' with imdb tt0110367\n",
      "handled movie: 'A Little Princess' with imdb tt0113670\n",
      "handled movie: 'Ladybird Ladybird' with imdb tt0110296\n",
      "handled movie: 'L'Enfer' with imdb tt0109731\n",
      "handled movie: 'Como agua para chocolate' with imdb tt0103994\n",
      "handled movie: 'Legends of the Fall' with imdb tt0110322\n",
      "handled movie: 'Major Payne' with imdb tt0110443\n",
      "handled movie: 'Little Odessa' with imdb tt0110365\n",
      "handled movie: 'Mi Vida Loca' with imdb tt0107566\n",
      "handled movie: 'Love Affair' with imdb tt0110391\n",
      "handled movie: 'Losing Isaiah' with imdb tt0113691\n",
      "handled movie: 'The Madness of King George' with imdb tt0110428\n",
      "handled movie: 'Frankenstein' with imdb tt0109836\n",
      "handled movie: 'Man of the House' with imdb tt0113755\n",
      "handled movie: 'Mixed Nuts' with imdb tt0110538\n",
      "handled movie: 'Milk Money' with imdb tt0110516\n",
      "handled movie: 'Miracle on 34th Street' with imdb tt0110527\n"
     ]
    }
   ],
   "source": [
    "from data.sparql import query, data, table, entity_to_json\n",
    "import json\n",
    "import data.movies as movies\n",
    "\n",
    "def wikidata_query (imdb_id):\n",
    "    return query(\n",
    "    f\"\"\"\n",
    "    SELECT ?titleLabel ?castLabel ?property ?propLabel\n",
    "    WHERE {{\n",
    "        ?title wdt:P345 \"{imdb_id}\".\n",
    "        # take all claims on this movie\n",
    "        ?title ?property ?cast .\n",
    "        # that involve a human\n",
    "        ?cast wdt:P31 wd:Q5 .\n",
    "\n",
    "        # get the property label\n",
    "        # see https://www.wikidata.org/wiki/Wikidata:SPARQL_query_service/queries#Adding_labels_for_properties\n",
    "        hint:Query hint:optimizer \"None\" .\n",
    "        ?prop wikibase:directClaim ?property .\n",
    "\n",
    "        SERVICE wikibase:label {{ bd:serviceParam wikibase:language \"en\". }}\n",
    "    }}\n",
    "    \"\"\"\n",
    "    )\n",
    "\n",
    "def extract_cast (wikidata_result):\n",
    "    dict = {\"cast_members\": []}\n",
    "    for cast_member in result[\"results\"][\"bindings\"]:\n",
    "        cast = {\n",
    "            \"Name\": cast_member[\"castLabel\"][\"value\"],\n",
    "            \"Role\": cast_member[\"propLabel\"][\"value\"]\n",
    "        }\n",
    "        dict[\"cast_members\"].append(cast)\n",
    "    return dict\n",
    "\n",
    "\n",
    "#load all movies from local db (limited to 5):\n",
    "local_movies = movies.get_all(10000)\n",
    "for movie in local_movies:\n",
    "    imdb_id = movie[\"imdb_id\"]\n",
    "    title = movie[\"original_title\"]\n",
    "    movie_id = movie[\"id\"]\n",
    " \n",
    "    #Query an \n",
    "    result = wikidata_query(imdb_id)\n",
    "    \n",
    "    cast_dict = extract_cast(result)\n",
    "    \n",
    "    movies.add_data_by_title(title, cast_dict)\n",
    "    #print(json.dumps(movies.get_by_title(title), indent=1))\n",
    "    \n",
    "    print(f\"handled movie: '{title}' with imdb {imdb_id}\")\n"
   ]
  },
  {
   "cell_type": "markdown",
   "id": "2bb3328d",
   "metadata": {},
   "source": [
    "Jetzt können wir beliebige, weitere Filme aus der Datenbank laden und den erweiterten Datenbestand nutzen"
   ]
  },
  {
   "cell_type": "code",
   "execution_count": null,
   "id": "0ef9f125",
   "metadata": {
    "hideCode": false,
    "hidePrompt": false
   },
   "outputs": [],
   "source": [
    "import json\n",
    "import data.movies as movies\n",
    "from data.sparql import table\n",
    "\n",
    "table(movies.get_by_title(\"Dingo\"))\n",
    "\n",
    "\n"
   ]
  },
  {
   "cell_type": "markdown",
   "id": "5f5fa122",
   "metadata": {},
   "source": [
    "**Frage**: *Wie kann man hier die Performance erhöhen?* "
   ]
  },
  {
   "cell_type": "markdown",
   "id": "3e474304",
   "metadata": {},
   "source": [
    "Eine Anwendung kann diese Zusatzdaten zum Beispiel weiter nutzen, um ggf. bei Bedarf weitere Daten zu den Schauspielern, also den einzelnen cast_members, zu laden. "
   ]
  },
  {
   "cell_type": "code",
   "execution_count": null,
   "id": "1032d9c4",
   "metadata": {},
   "outputs": [],
   "source": [
    "from data import movies\n",
    "from data.sparql import query, table\n",
    "\n",
    "dingo = movies.get_by_title(\"Dingo\")\n",
    "cast_members = dingo['cast_members']\n",
    "\n",
    "for member in cast_members:\n",
    "    member_name = member['Name']\n",
    "\n",
    "    q = (\"\"\n",
    "    \"SELECT DISTINCT ?name ?image ?birthday ?nationalityLabel \"\n",
    "    \"WHERE { \"\n",
    "    \"  ?person rdfs:label \\\"\"+member_name+\"\\\"@en; \"\n",
    "    \"          wdt:P27 ?nationality. \"\n",
    "    \"BIND(\\\"\"+member_name+\"\\\" AS ?name) \"\n",
    "    \"OPTIONAL { \"\n",
    "    \"    ?person wdt:P18 ?image; \"\n",
    "    \"            wdt:P569 ?birthday. \"\n",
    "    \"} \"\n",
    "    \"SERVICE wikibase:label { bd:serviceParam wikibase:language \\\"en\\\". } \"        \n",
    "    \"} \"\n",
    "    \"LIMIT 1\")\n",
    "    \n",
    "    \n",
    "    table(query(q))"
   ]
  },
  {
   "cell_type": "markdown",
   "id": "9215cfc7",
   "metadata": {
    "hideCode": false,
    "hidePrompt": false
   },
   "source": [
    "<h2> Welche Daten sind nicht vorhanden </h2>"
   ]
  },
  {
   "cell_type": "markdown",
   "id": "42cd59dd",
   "metadata": {
    "hideCode": false,
    "hidePrompt": false
   },
   "id": "fb77ecdf",
   "metadata": {},
   "source": [
    "Obwohl wir nun weit mehr Daten zur Verfügung haben, könnte man sich weitere, nicht vorhandene Daten vorstellen. <br>\n",
    "Wir wissen, welche Schauspieler im Film mitgespielt haben, welche Nationalität sie haben, wie alt sie sind -<br>\n",
    "wir könnten sogar den Altersschnitt der Film-Crew berechnen!<br><br>\n",
    "\n",
    "Wir wissen jedoch nicht\n",
    "- Wie lang ein Film in den Kinos lief\n",
    "- In welchen Kinos ein Film gelaufen ist\n",
    "- Auf welchen Sendern der Film vielleicht schon im Fernsehen gelaufen ist\n",
    "- Welche Kritiken es im Wortlaut zu dem Film gab\n",
    "- Welche Soundtracks / Musik im Film verwendet wurde\n",
    "\n",
    "<br><br>\n",
    "Der Grund, dass wir diese Eigenschaften nicht kennen, ist, dass sie nicht im Wikidata-Datensatz vorhanden sind. \n",
    "Dies muss jedoch nicht heißen, dass wir dies überhaupt nicht herausfinden können.\n",
    "Gäbe es eine Plattform, auf der Kinos ihre Spielpläne und Filmhistorien als RDF-Graph bereit stellen würden, könnten wir dies nutzen. Das selbe gilt z.B. für die deutschen Fernsehsender.\n",
    "Für Musik-Informationen gibt es tatsächlich einen offenen SPARQL-Endpoint auf MusicBrainz, das heißt hier könnte man (möglicherweise) die Musik von bekannten Filmen wiederfinden. <br>\n"
   ]
  },
  {
   "cell_type": "markdown",
   "id": "459131a6",
   "metadata": {
    "hideCode": false,
    "hidePrompt": false
   },
   "source": [

    "Probleme <br>\n",
    "Zu welchen problemen kann es bei der Erweiterung von Daten kommen und wie kann auf diese reagiert werden?\n",
    "\n",
    "- Es können Daten schlichtweg nicht vorhanden sein (Lösung: setze sie auf null/None oder ähnliche defaults)\n",
    "- Es können Daten datenbestandsübergreifend nicht korrekt sein, beispiel: Die IMDB_ID auf Wikidata ist anders als die in der MongoDB (Lösung: Ggf. Kontrolle über weitere Eigenschaft wie Titel)"
   ]
  },
  {
   "cell_type": "markdown",

   "id": "cdcbe6ce",
   "metadata": {},
   "source": [
    "<h2> Fazit </h2>"
   ]
  },
  {
   "cell_type": "markdown",
   "id": "e9166cec",
   "metadata": {},
   "source": [
    "SPARQL ermöglicht es, Linked Open Data im Netz abzufragen. <br>\n",
    "Über Attribute wie gemeinsam bekannte Datenbank-ID's oder andere, gebräuchliche Identifier (ISBN, DOI, etc.) können bereits bestehende Datenbestände einfach erweitert werden. <br>\n",
    "Auf diese Art und Weise kann man weitere Informationen wie Schauspieler eines Filmes ergänzen. <br>\n",
    "Die Daten können durch unterschiedliche Quellen und Ontologien erweitert werden, beispielsweise können über GeoNames zu den bestehenden Daten wie Film-Ort weitere Ortsinformationen bereit gestellt werden. <br>\n",
    "Würde man all diese Informationen stehts als RDF über SPARQL Queries abrufen können, dann hätte man tatsächlich ein semantisches Internet\n"
   ]
  },
  {
   "cell_type": "code",
   "execution_count": null,

   "id": "d447987e",
   "metadata": {},
   "outputs": [],
   "source": []
  }
 ],
 "metadata": {
  "hide_code_all_hidden": false,
  "kernelspec": {
   "display_name": "Python 3",
   "language": "python",
   "name": "python3"
  },
  "language_info": {
   "codemirror_mode": {
    "name": "ipython",
    "version": 3
   },
   "file_extension": ".py",
   "mimetype": "text/x-python",
   "name": "python",
   "nbconvert_exporter": "python",
   "pygments_lexer": "ipython3",
   "version": "3.9.5"
  }
 },
 "nbformat": 4,
 "nbformat_minor": 5
}
