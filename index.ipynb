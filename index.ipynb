{
 "cells": [
  {
   "cell_type": "markdown",
   "id": "7989ebb8",
   "metadata": {},
   "source": [
    "_Anmerkung: Ggf. müssen sie nach dem Öffnen des Notebooks noch einmal auf 'Kernel > Restart & Run All' clicken_"
   ]
  },
  {
   "cell_type": "markdown",
   "id": "b7af89bf",
   "metadata": {},
   "source": [
    "<h1>Demonstrator: Abfragen mit SPARQL</h1>"
   ]
  },
  {
   "cell_type": "markdown",
   "id": "ec189f01",
   "metadata": {},
   "source": [
    "In diesem Demonstrator werden wir zeigen, wie SPARQL Abfragen genutzt werden können, \n",
    "um aus Open Data Beständen weiteres Wissen zu ziehen."
   ]
  },
  {
   "cell_type": "markdown",
   "id": "c7ece08d",
   "metadata": {},
   "source": [
    "![SPARQL Logo](./media/SPARQL.png)"
   ]
  },
  {
   "cell_type": "markdown",
   "id": "b4ae05ce",
   "metadata": {},
   "source": [
    "<h2> Übersicht </h2>"
   ]
  },
  {
   "cell_type": "markdown",
   "id": "e1091c86",
   "metadata": {},
   "source": [
    "Im Verlauf dieses Vortrages werden wir nochmal die Grundlagen von SPARQL-Abfragen erklären, \n",
    "und danach erklären, wie sich derart gewonnene Daten zur Erweiterung eines bestehenden Datenbestandes Nutzen lassen. <br><br>\n",
    "Idealerweise können sie am Ende dieses Demonstrators beim ihren nächsten Projekt ebenfalls Daten über Open Data im RDF-Format erweitern. <br>\n",
    "In diesem Vortrag kommen daher folgende Themen vor:\n",
    "\n",
    "    - Was ist SPARQL \n",
    "    - SPARQL Queries\n",
    "    - Erweiterung einer DB mit Open Data\n",
    "        - Suche in der DB\n",
    "        - Geeignete Attribute zur Identifikation über mehrere DB\n",
    "        - Erweiterung der DB\n",
    "    - Welche Daten sind (in der erweiterten DB) nicht vorhanden\n",
    "    - Fazit"
   ]
  },
  {
   "cell_type": "markdown",
   "id": "e0ffdbb5",
   "metadata": {},
   "source": [
    "<h2> Was ist SPARQL? </h2>"
   ]
  },
  {
   "cell_type": "markdown",
   "id": "ea52b4e2",
   "metadata": {},
   "source": [
    "Bei SPARQL handelt es sich um die **S**PARQL **P**rotocol **A**nd **R**DF **Q**uery **L**anguage. <br>\n",
    "Es ist also sowohl ein Protokoll als auch eine Abfragesprache für das Resource Description Framework. <br>\n",
    "Während SQL die Abfragesprache für relationale Datenbanken ist, ist SPARQL die geläufige Abfragesprache für RDF-Daten, welche nicht als Tabellen sondern als Graph mit gelabelten Kanten zu verstehen sind.\n",
    "RDF steht für **R**esource **D**escription **F**ramework, ein vom W3C standardisiertes, XML-basiertes Format zur Beschreibung von Datenobjekten und ihren Beziehungen zueinander.\n",
    "\n"
   ]
  },
  {
   "cell_type": "markdown",
   "id": "a1387654",
   "metadata": {},
   "source": [
    "<h2> SPARQL Queries </h2>"
   ]
  },
  {
   "cell_type": "markdown",
   "id": "6d59cb22",
   "metadata": {},
   "source": [
    "Eine SPARQL Abfrage ähnelt in ihren Augen möglicherweise einer SQL-Abfrage, jedoch sind die Gemeinsamkeiten nur oberflächlich.\n",
    "Abfragen besitzen einen SELECT-Part, der die resultierenden Variablen (von der Struktur den Spalten in SQL entsprechend) wiedergibt und einem WHERE-Part, der definiert, welche Eigenschaften die resultierenden Filme alle gemeinsam besitzen."
   ]
  },
  {
   "cell_type": "code",
   "execution_count": 1,
   "id": "a0edba5e",
   "metadata": {},
   "outputs": [
    {
     "data": {
      "text/html": [
       "<table><thead><tr><th>movie</th></tr></thead><tbody><tr><td>http://www.wikidata.org/entity/Q372</td></tr><tr><td>http://www.wikidata.org/entity/Q593</td></tr><tr><td>http://www.wikidata.org/entity/Q595</td></tr><tr><td>http://www.wikidata.org/entity/Q1365</td></tr><tr><td>http://www.wikidata.org/entity/Q2201</td></tr><tr><td>http://www.wikidata.org/entity/Q2345</td></tr><tr><td>http://www.wikidata.org/entity/Q2875</td></tr><tr><td>http://www.wikidata.org/entity/Q3092</td></tr><tr><td>http://www.wikidata.org/entity/Q3187</td></tr><tr><td>http://www.wikidata.org/entity/Q3208</td></tr></tbody></table>"
      ],
      "text/plain": [
       "<IPython.core.display.HTML object>"
      ]
     },
     "metadata": {},
     "output_type": "display_data"
    }
   ],
   "source": [
    "from data.sparql import query, table\n",
    "\n",
    "table(query(\"\"\"\n",
    "SELECT ?movie\n",
    "WHERE\n",
    "{\n",
    " ?movie wdt:P31 wd:Q11424\n",
    "}\n",
    "LIMIT 10\n",
    "\"\"\"))"
   ]
  },
  {
   "cell_type": "markdown",
   "id": "efde1d04",
   "metadata": {},
   "source": [
    "Diese Query liefert die ersten 10 Filme, welche in Wikidata gelistet sind.\n",
    "Zwar können sie auf die Einträge klicken, um zu sehen, um was es sich handelt, jedoch ist dieses Format noch nicht sonderlich leserlich."
   ]
  },
  {
   "cell_type": "markdown",
   "id": "256995b2",
   "metadata": {},
   "source": [
    "Um statt der Objekte selbst ihre Label zu erhalten, erweitern wir die vorherige Query. Diesmal soll nicht der Film selbst, sondern sein Titel angezeigt werden."
   ]
  },
  {
   "cell_type": "code",
   "execution_count": 2,
   "id": "837b2655",
   "metadata": {
    "scrolled": true
   },
   "outputs": [
    {
     "data": {
      "text/html": [
       "<table><thead><tr><th>title</th></tr></thead><tbody><tr><td>...men Olsenbanden var ikke død</td></tr><tr><td>Le guerriere dal seno nudo</td></tr><tr><td>La vendetta dei gladiatori</td></tr><tr><td>Relatives</td></tr><tr><td>Zinebi Festival Internacional de Cine Documental y Cortometraje de Bilbao</td></tr><tr><td>Börn</td></tr><tr><td>Syurpriz</td></tr><tr><td>Petualang Tak Kenal Menyerah</td></tr><tr><td>طلق صناعي</td></tr><tr><td>Brexit (2019)</td></tr></tbody></table>"
      ],
      "text/plain": [
       "<IPython.core.display.HTML object>"
      ]
     },
     "metadata": {},
     "output_type": "display_data"
    }
   ],
   "source": [
    "from data.sparql import query, table\n",
    "\n",
    "table(query(\n",
    "\"\"\"\n",
    "SELECT ?title\n",
    "WHERE\n",
    "{\n",
    " ?movie wdt:P31 wd:Q11424 .\n",
    " ?movie wdt:P1448 ?title       \n",
    "} \n",
    "LIMIT 10\n",
    "\"\"\"\n",
    "))    "
   ]
  },
  {
   "cell_type": "markdown",
   "id": "5e1ea25b",
   "metadata": {},
   "source": [
    "Wie sie sehen, muss nicht jede Variable auch ausgegeben werden.\n",
    "Hier sieht man nur den Titel, aber nicht das Film-Objekt."
   ]
  },
  {
   "cell_type": "markdown",
   "id": "00eb2a35",
   "metadata": {},
   "source": [
    "Zudem ist dies die erste Query, bei der mehrere Kriterien (nämlich Objekt ?movie ist vom Typ Film und Object ?movie hat Titel ?title.\n",
    "Jedes dieser logischen Tripletts wird durch einen Punkt vom nächsten getrennt.\n",
    "Um etwas Schreibarbeit zu sparen, kann auch "
   ]
  },
  {
   "cell_type": "markdown",
   "id": "82946e4e",
   "metadata": {},
   "source": [
    "```\n",
    "SELECT ?title\n",
    "WHERE\n",
    "{\n",
    " ?movie wdt:P31 wd:Q11424;\n",
    "        wdt:P1448 ?title       \n",
    "} \n",
    "LIMIT 10\n",
    "```"
   ]
  },
  {
   "cell_type": "markdown",
   "id": "2e71e723",
   "metadata": {},
   "source": [
    "schreiben. Hier wird durch das Semikolon \";\" das Subjekt aus dem letzten Triplet für das Nächste wiederverwendet."
   ]
  },
  {
   "cell_type": "markdown",
   "id": "9bd69b3c",
   "metadata": {},
   "source": [
    "Schreiben sie ebenfalls eine Abfrage, welche die IMDB ID dreier Filme ausgibt.\n",
    "Das Prädikat für 'hat IMDB ID' lautet 'wdt:P345', bei der IMDB ID handelt es sich um eine ID der 'Internet Movie Database'."
   ]
  },
  {
   "cell_type": "code",
   "execution_count": 3,
   "id": "617143e3",
   "metadata": {},
   "outputs": [],
   "source": [
    "# Tragen sie hier ihren SPARQL-Code ein und klicken sie auf RUN, um ihn auszutesten.\n",
    "# Denken sie daran, ggf. über 'from data.sparql import query, table' die notwendigen Funktionen zu importieren,\n",
    "# sollte es sie hier zu einem Fehler kommen.\n",
    "\n",
    "\n",
    "\n",
    "\n",
    "\n",
    "\n"
   ]
  },
  {
   "cell_type": "markdown",
   "id": "a54ec9d9",
   "metadata": {},
   "source": [
    "<h2> Erweiterung einer DB mit Open Data </h2>"
   ]
  },
  {
   "cell_type": "markdown",
   "id": "361842f1",
   "metadata": {},
   "source": [
    "Sie haben nun einen Überblick über die grundlegende Struktur von SPARQL Abfragen bekommen.<br>\n",
    "Die durch SPARQL verfügbar gemachten Daten können verwendet werden, \n",
    "um beispielsweise zusätzliche Informationen zu denen einer Datenbank hinzuzufügen. <br><br>\n",
    "\n",
    "In diesem Notebook handelt es sich hierbei um eine MongoDB, welche eine vielzahl an Filmen enthält.\n",
    "Die Daten entstammen den bekannten *movie_metadata.csv* File.\n",
    "Zur Rekapitulation: Dieser Datensatz enthält folgende Informationen zu Filmen bis zum Jahr 2020:"
   ]
  },
  {
   "cell_type": "markdown",
   "id": "e68666a0",
   "metadata": {},
   "source": [
    "- index (Integer, n-ter Eintrag innerhalb des Datensatzes)\n",
    "- title\n",
    "- adult (Boolean, ob der Film FSK 18 ist)\n",
    "- belongs_to_collection\n",
    "- budget\n",
    "- genres\n",
    "- homepage\n",
    "- id (Integer, ID innerhalb des Datensatz)\n",
    "- imdb_id (String, ID innerhalb der Internet Movie Database)\n",
    "- original_language\n",
    "- original_title\n",
    "- overview (String, sehr kurze Textzusammenfassung der Handlung)\n",
    "- popularity\n",
    "- poster_path\n",
    "- production_companies\n",
    "- production_countries\n",
    "- release_date\n",
    "- revenue\n",
    "- runtime\n",
    "- spoken_languages\n",
    "- status (String, Released, produziert aber nicht veröffentlicht, etc.)\n",
    "- tagline (String, Slogan, Untertitel des Films)\n",
    "- video\n",
    "- vote_average\n",
    "- vote_count\n"
   ]
  },
  {
   "cell_type": "markdown",
   "id": "441c5cd2",
   "metadata": {},
   "source": [
    "Die Datenbank enthält also bereits viele Informationen.\n",
    "Titel, Genre, Veröffentlichungszeitpunkt und ähnliches ist enthalten. <br>\n",
    "Jedoch fehlen auch einige Informationen in den bisherigen Daten.\n",
    "Beispielsweise: <br>\n",
    "- Welche Schauspieler:innen haben in den Film gespielt? (Bzw. wer hat allgemein am Film mitgewirkt) \n",
    "- In welchen Ländern wurde der Film veröffentlicht?\n",
    "- Welche Altersfreigabe gibt es **pro Land**?"
   ]
  },
  {
   "cell_type": "markdown",
   "id": "0b4c6cbc",
   "metadata": {},
   "source": [
    "Diese im Original-Datensatz nicht vorhandenen Informationen können gegebenenfalls über Open Data im Netz in Erfahrung gebracht werden. \n",
    "Dies geschieht im folgenden.\n",
    "In der Datenbank befindet sich beispielsweise zum Film Iron Man folgendes:"
   ]
  },
  {
   "cell_type": "code",
   "execution_count": 4,
   "id": "55321bb3",
   "metadata": {
    "scrolled": true
   },
   "outputs": [
    {
     "data": {
      "text/html": [
       "<table><thead><tr><th> Key </th><th> Value </th></tr></thead><tbody><tr><td>index</td><td>12588</td></tr><tr><td>adult</td><td>False</td></tr><tr><td>belongs_to_collection</td><td>Iron Man Collection</td></tr><tr><td>budget</td><td>140000000</td></tr><tr><td>genres</td><td>Action,Science Fiction,Adventure</td></tr><tr><td>homepage</td><td>http://www.ironmanmovie.com/</td></tr><tr><td>id</td><td>1726</td></tr><tr><td>imdb_id</td><td>tt0371746</td></tr><tr><td>original_language</td><td>en</td></tr><tr><td>original_title</td><td>Iron Man</td></tr><tr><td>overview</td><td>After being held captive in an Afghan cave, billionaire engineer Tony Stark creates a unique weaponized suit of armor to fight evil.</td></tr><tr><td>popularity</td><td>22.073099</td></tr><tr><td>poster_path</td><td>/848chlIWVT41VtAAgyh9bWymAYb.jpg</td></tr><tr><td>production_companies</td><td>Paramount Pictures,Marvel Studios</td></tr><tr><td>production_countries</td><td>United States of America</td></tr><tr><td>release_date</td><td>2008-04-30</td></tr><tr><td>revenue</td><td>585174222.0</td></tr><tr><td>runtime</td><td>126.0</td></tr><tr><td>spoken_languages</td><td>en,fa,ur,ar</td></tr><tr><td>status</td><td>Released</td></tr><tr><td>tagline</td><td>Heroes aren't born. They're built.</td></tr><tr><td>title</td><td>Iron Man</td></tr><tr><td>video</td><td>False</td></tr><tr><td>vote_average</td><td>7.4</td></tr><tr><td>vote_count</td><td>8951.0</td></tr><tr><td>cast_members</td><td><table><thead><tr><th>role</th><th>name</th></tr></thead><tbody><tr><td>director</td><td>Jon Favreau</td></tr><tr><td>screenwriter</td><td>Mark Fergus</td></tr><tr><td>screenwriter</td><td>Hawk Ostby</td></tr><tr><td>screenwriter</td><td>Art Marcum</td></tr><tr><td>screenwriter</td><td>Matt Holloway</td></tr><tr><td>composer</td><td>Ramin Djawadi</td></tr><tr><td>cast member</td><td>Gwyneth Paltrow</td></tr><tr><td>cast member</td><td>Clark Gregg</td></tr><tr><td>cast member</td><td>Shaun Toub</td></tr><tr><td>cast member</td><td>Robert Downey Jr.</td></tr><tr><td>cast member</td><td>Samuel L. Jackson</td></tr><tr><td>cast member</td><td>Jeff Bridges</td></tr><tr><td>cast member</td><td>Stan Lee</td></tr><tr><td>cast member</td><td>Leslie Bibb</td></tr><tr><td>cast member</td><td>Paul Bettany</td></tr><tr><td>cast member</td><td>Jon Favreau</td></tr><tr><td>cast member</td><td>Terrence Howard</td></tr><tr><td>cast member</td><td>Tom Morello</td></tr><tr><td>cast member</td><td>Faran Tahir</td></tr><tr><td>cast member</td><td>Joshua Harto</td></tr><tr><td>cast member</td><td>Tim Guinee</td></tr><tr><td>cast member</td><td>Bill Smitrovich</td></tr><tr><td>cast member</td><td>Nazanin Boniadi</td></tr><tr><td>cast member</td><td>Meera Simhan</td></tr><tr><td>cast member</td><td>Sayed Badreya</td></tr><tr><td>film editor</td><td>Dan Lebental</td></tr><tr><td>executive producer</td><td>Stan Lee</td></tr><tr><td>executive producer</td><td>Jon Favreau</td></tr><tr><td>executive producer</td><td>Peter Billingsley</td></tr><tr><td>executive producer</td><td>David Maisel</td></tr><tr><td>executive producer</td><td>Louis D'Esposito</td></tr><tr><td>executive producer</td><td>Ari Arad</td></tr><tr><td>costume designer</td><td>Laura Jean Shannon</td></tr><tr><td>costume designer</td><td>Rebecca Bentjen</td></tr><tr><td>production designer</td><td>J. Michael Riva</td></tr><tr><td>cast member</td><td>Will Lyman</td></tr><tr><td>cast member</td><td>America Olivo</td></tr><tr><td>cast member</td><td>Peter Billingsley</td></tr><tr><td>cast member</td><td>Adam Harrington</td></tr><tr><td>cast member</td><td>Ahmed Ahmed</td></tr><tr><td>cast member</td><td>Jim Cramer</td></tr><tr><td>cast member</td><td>Lauren Scyphers</td></tr><tr><td>cast member</td><td>Marco Khan</td></tr><tr><td>cast member</td><td>Mike Cochrane</td></tr><tr><td>cast member</td><td>Ricki Noel Lander</td></tr><tr><td>cast member</td><td>Gabrielle Tuite</td></tr><tr><td>cast member</td><td>Tim Griffin</td></tr><tr><td>cast member</td><td>James Bethea</td></tr><tr><td>cast member</td><td>Sarah Cahill</td></tr><tr><td>cast member</td><td>Fahim Fazli</td></tr><tr><td>cast member</td><td>Russell Richardson</td></tr><tr><td>cast member</td><td>Micah Hauptman</td></tr><tr><td>cast member</td><td>Masha Lund</td></tr><tr><td>cast member</td><td>Patrick O'Connell</td></tr><tr><td>cast member</td><td>Daston Kalili</td></tr><tr><td>cast member</td><td>Ido Mor</td></tr><tr><td>cast member</td><td>Kevin Foster</td></tr><tr><td>cast member</td><td>Garret Noël</td></tr><tr><td>cast member</td><td>Eileen Weisinger</td></tr><tr><td>cast member</td><td>Lana Kinnear</td></tr><tr><td>cast member</td><td>Nicole Lindeblad</td></tr><tr><td>cast member</td><td>Zorianna Kit</td></tr><tr><td>cast member</td><td>Ben Newmark</td></tr><tr><td>cast member</td><td>Jeannine Kaspar</td></tr><tr><td>cast member</td><td>Stacy Stas Hurst</td></tr><tr><td>cast member</td><td>Gerard Sanders</td></tr><tr><td>cast member</td><td>Tim Rigby</td></tr><tr><td>cast member</td><td>Thomas Craig Plumer</td></tr><tr><td>cast member</td><td>Robert Berkman</td></tr><tr><td>cast member</td><td>Frank Nyi</td></tr><tr><td>cast member</td><td>Marvin Jordan</td></tr><tr><td>cast member</td><td>Donna Evans</td></tr><tr><td>cast member</td><td>Reid Harper</td></tr><tr><td>cast member</td><td>Ava Rose Williams</td></tr><tr><td>cast member</td><td>Summer Kylie Remington</td></tr><tr><td>cast member</td><td>Vladimir Kubr</td></tr><tr><td>cast member</td><td>Callie Croughwell</td></tr><tr><td>cast member</td><td>Javan Tahir</td></tr><tr><td>cast member</td><td>Sahar Bibiyan</td></tr><tr><td>cast member</td><td>Justin Rex</td></tr><tr><td>producer</td><td>Kevin Feige</td></tr><tr><td>producer</td><td>Avi Arad</td></tr><tr><td>performer</td><td>Lauren Scyphers</td></tr><tr><td>performer</td><td>Stacy Stas Hurst</td></tr><tr><td>director of photography</td><td>Matthew Libatique</td></tr></tbody></tbody></td></tr><tr><td>uuid</td><td>60bcdbe5705e9af48abd39ad</td></tr></tbody></table>"
      ],
      "text/plain": [
       "<IPython.core.display.HTML object>"
      ]
     },
     "metadata": {},
     "output_type": "display_data"
    }
   ],
   "source": [
    "import data.movies as movies\n",
    "\n",
    "iron_man_movies = movies.get_by_title('Iron Man')\n",
    "\n",
    "table(iron_man_movies)"
   ]
  },
  {
   "cell_type": "markdown",
   "id": "bf6f0018",
   "metadata": {},
   "source": [
    "Um diesen Film, sowie die anderen, in der Datenbank befindlichen Einträge um zusätzliche Informationen zu erweitern, muss zunächst ein geeigneter eindeutiger Identifier für einen Film gefunden werden. <br>\n",
    "Dazu eignen sich einige Einträge eines Films besser als andere. <br><br>\n",
    "\n",
    "Frage: Welche der Eigenschaften des (oben sichtbaren) Filmes haltet ihr für sinvoll um online nach Infos zu suchen?<br>\n",
    "Und warum?\n",
    "\n",
    "\n",
    "\n"
   ]
  },
  {
   "cell_type": "markdown",
   "id": "e3829e1a",
   "metadata": {},
   "source": [
    "<h3> Suche nach Namen: </h3>"
   ]
  },
  {
   "cell_type": "code",
   "execution_count": 5,
   "id": "bf7c3e03",
   "metadata": {},
   "outputs": [
    {
     "ename": "SyntaxError",
     "evalue": "invalid syntax (<ipython-input-5-94daea11b3a4>, line 1)",
     "output_type": "error",
     "traceback": [
      "\u001b[0;36m  File \u001b[0;32m\"<ipython-input-5-94daea11b3a4>\"\u001b[0;36m, line \u001b[0;32m1\u001b[0m\n\u001b[0;31m    Im folgenden suchen wir zuerst Filme nach Namen\u001b[0m\n\u001b[0m       ^\u001b[0m\n\u001b[0;31mSyntaxError\u001b[0m\u001b[0;31m:\u001b[0m invalid syntax\n"
     ]
    }
   ],
   "source": [
    "Im folgenden suchen wir zuerst Filme nach Namen"
   ]
  },
  {
   "cell_type": "code",
   "execution_count": null,
   "id": "65d9a47d",
   "metadata": {},
   "outputs": [],
   "source": [
    "from data.sparql import query, data, table, entity_to_json\n",
    "\n",
    "#movie is instance (P31) of film (Q11424)\n",
    "#movie has label ?titel\n",
    "\n",
    "table(query(\n",
    "\"\"\"\n",
    "SELECT *\n",
    "WHERE\n",
    "{\n",
    " ?movie wdt:P31 wd:Q11424 ;\n",
    "        rdfs:label ?title ;\n",
    "  FILTER CONTAINS(?title, \"Iron Man\")\n",
    "  FILTER LANGMATCHES(lang(?title),'en')\n",
    "} \n",
    "\"\"\"\n",
    "))\n"
   ]
  },
  {
   "cell_type": "markdown",
   "id": "9196ea23",
   "metadata": {},
   "source": [
    "Hier haben wir viele Ergebnisse, welche ggf. hilfreich sind, wenn der Nutzer im allgemeinen nach Schlagworten sucht.\n",
    "Für die Exploration eines Datensatzes sinnvoll, für die Erweiterung von Daten jedoch nicht geeignet. Hier wollen wir eher ein Eindeutiges Attribut haben und der Name allein (ohne weitere Merkmale wie Veröffentlichungsjahr und Regisseur) ist dies nicht."
   ]
  },
  {
   "cell_type": "markdown",
   "id": "405f6528",
   "metadata": {},
   "source": [
    "<h3> Suche nach imdb_id: </h3>"
   ]
  },
  {
   "cell_type": "markdown",
   "id": "c4bfa183",
   "metadata": {},
   "source": [
    "Die IMDB enthält viele Informationen zu Filmen und listet Filme unter der eigenen ID. <br>\n",
    "Diese IMDB ID kann genutzt werden, um ggf. mehr Daten aus Open Data herauszufinden."
   ]
  },
  {
   "cell_type": "code",
   "execution_count": null,
   "id": "78469362",
   "metadata": {},
   "outputs": [],
   "source": [
    "from data.sparql import query, table\n",
    "\n",
    "table(query(\n",
    "\"\"\"\n",
    "SELECT *\n",
    "WHERE\n",
    "{\n",
    " ?movie wdt:P31 wd:Q11424 ;\n",
    "        wdt:P345 ?imdb_id .\n",
    " FILTER CONTAINS (?imdb_id, \"tt0371746\")\n",
    "} \n",
    "LIMIT 1\n",
    "\"\"\"\n",
    "))\n",
    "\n"
   ]
  },
  {
   "cell_type": "markdown",
   "id": "cb27c5a0",
   "metadata": {},
   "source": [
    "Auf WikiData finden wir über die IMDB ID ein Datenobjekt. <br>\n",
    "Als Nutzer können sie auf den Link dieses Datenobjektes klicken und sich die Wikidata-Seite ansehen.\n",
    "Zur maschinellen Verarbeitung kann aber auch das Objekt in als JSON angefragt und dann weiter verarbeitet werden."
   ]
  },
  {
   "cell_type": "code",
   "execution_count": null,
   "id": "04eb1138",
   "metadata": {},
   "outputs": [],
   "source": [
    "from data.sparql import query, data, table, entity_to_json\n",
    "\n",
    "result = query(\n",
    "\"\"\"\n",
    "SELECT *\n",
    "WHERE\n",
    "{\n",
    " ?movie wdt:P31 wd:Q11424 ;\n",
    "        rdfs:label ?title ;\n",
    "        wdt:P345 ?imdb_id .\n",
    "  FILTER CONTAINS(?title, \"Iron Man\")\n",
    "  FILTER LANGMATCHES(lang(?title),'en')\n",
    "} \n",
    "LIMIT 1\n",
    "\"\"\"\n",
    ")\n",
    "\n",
    "# a bit hacky, but it retrieves the id from the wikidata URI, which has the form https://www.wikidata.org/wiki/{id}\n",
    "url = data(result)[0]['movie']\n",
    "entity_id = url.split(\"/\").pop()\n",
    "\n",
    "print(url)\n",
    "entity_to_json(entity_id)"
   ]
  },
  {
   "cell_type": "markdown",
   "id": "a183503a",
   "metadata": {},
   "source": [
    "Hier erkennt man, dass wir in diesem JSON Objekt eine große Menge an Daten zum Film erhalten. \n",
    "Wir können hier den Film-Titel in vielen Sprachen angeben, herausfinden, welcher Direktor für den Schnitt des Filmes verantwortlich ist, welche unterschiedlichen Jugendschutz-Label ein Film hat, etc."
   ]
  },
  {
   "cell_type": "markdown",
   "id": "d404a5ff",
   "metadata": {},
   "source": [
    "<h3> Einfügen aller Schauspieler eines Films </h3>"
   ]
  },
  {
   "cell_type": "code",
   "execution_count": null,
   "id": "d69e2bf0",
   "metadata": {},
   "outputs": [],
   "source": [
    "from data.sparql import query, data, table, entity_to_json\n",
    "\n",
    "result = query(\n",
    "\"\"\"\n",
    "SELECT *\n",
    "WHERE\n",
    "{\n",
    " ?movie wdt:P31 wd:Q11424 ;\n",
    "        rdfs:label ?title ;\n",
    "        wdt:P345 ?imdb_id .\n",
    "  FILTER CONTAINS(?title, \"Iron Man\")\n",
    "  FILTER LANGMATCHES(lang(?title),'en')\n",
    "} \n",
    "LIMIT 1\n",
    "\"\"\"\n",
    ")"
   ]
  },
  {
   "cell_type": "markdown",
   "id": "c5b65d53",
   "metadata": {},
   "source": [
    "Einige der Eigenschaften sind jedoch über ihre Wikidata-ID aufgelistet. Diese muss aufgelöst werden, um menschenverständliche Daten zu erhalten, also z.B. das es sich bei 'P345' um eine 'IMDB ID' handelt. "
   ]
  },
  {
   "cell_type": "code",
   "execution_count": null,
   "id": "0a486cd9",
   "metadata": {},
   "outputs": [],
   "source": [
    "from data.sparql import query, data, table, entity_to_json\n",
    "\n",
    "result = query(\n",
    "\"\"\"\n",
    "SELECT ?titleLabel ?castLabel ?property ?propLabel\n",
    "WHERE {\n",
    "    ?title wdt:P345 \"tt0371746\".\n",
    "    # take all claims on this movie\n",
    "    ?title ?property ?cast .\n",
    "    # that involve a human\n",
    "    ?cast wdt:P31 wd:Q5 .\n",
    "\n",
    "    # get the property label\n",
    "    # see https://www.wikidata.org/wiki/Wikidata:SPARQL_query_service/queries#Adding_labels_for_properties\n",
    "    hint:Query hint:optimizer \"None\" .\n",
    "    ?prop wikibase:directClaim ?property .\n",
    "\n",
    "    SERVICE wikibase:label { bd:serviceParam wikibase:language \"en\". }\n",
    "}\n",
    "\"\"\"\n",
    ")\n",
    "\n",
    "table (result)"
   ]
  },
  {
   "cell_type": "markdown",
   "id": "586d9dc3",
   "metadata": {},
   "source": [
    "Die so abgerufene Liste an Schauspielern bzw. Mitwirkenden dieses Films wird nun dem Datensatz der lokalen Datenbank hinzugefügt. Dazu werden die Daten zunächst aufbereitet und dann in dem Datensatz gespeichert."
   ]
  },
  {
   "cell_type": "markdown",
   "id": "3b5c617c",
   "metadata": {
    "scrolled": false
   },
   "source": [
    "Der Datensatz enthält daraufhin die Schauspieler als ein weiteres Attribut:"
   ]
  },
  {
   "cell_type": "code",
   "execution_count": null,
   "id": "b39ba40a",
   "metadata": {},
   "outputs": [],
   "source": [
    "from data.sparql import query, data, table, entity_to_json\n",
    "import data.movies as movies\n",
    "\n",
    "\n",
    "result = query(\n",
    "\"\"\"\n",
    "SELECT ?titleLabel ?castLabel ?property ?propLabel\n",
    "WHERE {\n",
    "    ?title wdt:P345 \"tt0371746\".\n",
    "    # take all claims on this movie\n",
    "    ?title ?property ?cast .\n",
    "    # that involve a human\n",
    "    ?cast wdt:P31 wd:Q5 .\n",
    "\n",
    "    # get the property label\n",
    "    # see https://www.wikidata.org/wiki/Wikidata:SPARQL_query_service/queries#Adding_labels_for_properties\n",
    "    hint:Query hint:optimizer \"None\" .\n",
    "    ?prop wikibase:directClaim ?property .\n",
    "\n",
    "    SERVICE wikibase:label { bd:serviceParam wikibase:language \"en\". }\n",
    "}\n",
    "\"\"\"\n",
    ")\n",
    "\n",
    "dict = {\"cast_members\": [{\"name\": cast[\"castLabel\"][\"value\"], \"role\": cast[\"propLabel\"][\"value\"]} for cast in result[\"results\"][\"bindings\"]]}\n",
    "#print (dict)\n",
    "\n",
    "\n",
    "movies.add_data_by_title(\"Iron Man\", dict)\n",
    "\n",
    "table(movies.get_by_title('Iron Man'))"
   ]
  },
  {
   "cell_type": "markdown",
   "id": "47eac922",
   "metadata": {},
   "source": [
    "Dieser Vorgang kann nun automatisiert für alle Einträge der lokalen Datenbank durchlaufen werden. "
   ]
  },
  {
   "cell_type": "code",
   "execution_count": null,
   "id": "2004f9f1",
   "metadata": {},
   "outputs": [],
   "source": [
    "from data.sparql import query, data, table, entity_to_json\n",
    "import json\n",
    "import data.movies as movies\n",
    "\n",
    "def wikidata_query (imdb_id):\n",
    "    return query(\n",
    "    f\"\"\"\n",
    "    SELECT ?titleLabel ?castLabel ?property ?propLabel\n",
    "    WHERE {{\n",
    "        ?title wdt:P345 \"{imdb_id}\".\n",
    "        # take all claims on this movie\n",
    "        ?title ?property ?cast .\n",
    "        # that involve a human\n",
    "        ?cast wdt:P31 wd:Q5 .\n",
    "\n",
    "        # get the property label\n",
    "        # see https://www.wikidata.org/wiki/Wikidata:SPARQL_query_service/queries#Adding_labels_for_properties\n",
    "        hint:Query hint:optimizer \"None\" .\n",
    "        ?prop wikibase:directClaim ?property .\n",
    "\n",
    "        SERVICE wikibase:label {{ bd:serviceParam wikibase:language \"en\". }}\n",
    "    }}\n",
    "    \"\"\"\n",
    "    )\n",
    "\n",
    "def extract_cast (wikidata_result):\n",
    "    dict = {\"cast_members\": []}\n",
    "    for cast_member in result[\"results\"][\"bindings\"]:\n",
    "        actor = {\n",
    "            \"Name\": cast_member[\"castLabel\"][\"value\"],\n",
    "            \"Role\": cast_member[\"propLabel\"][\"value\"]\n",
    "        }\n",
    "        dict[\"cast_members\"].append(actor)\n",
    "    return dict\n",
    "\n",
    "\n",
    "#load all movies from local db (limited to 5):\n",
    "local_movies = movies.get_all(10000)\n",
    "for movie in local_movies:\n",
    "    imdb_id = movie[\"imdb_id\"]\n",
    "    title = movie[\"original_title\"]\n",
    "    movie_id = movie[\"id\"]\n",
    " \n",
    "    #Query an \n",
    "    result = wikidata_query(imdb_id)\n",
    "    \n",
    "    cast_dict = extract_cast(result)\n",
    "    \n",
    "    movies.add_data_by_title(title, cast_dict)\n",
    "    #print(json.dumps(movies.get_by_title(title), indent=1))\n",
    "    \n",
    "    print(f\"handled movie: '{title}' with imdb {imdb_id}\")\n"
   ]
  },
  {
   "cell_type": "markdown",
   "id": "2bb3328d",
   "metadata": {},
   "source": []
  },
  {
   "cell_type": "code",
   "execution_count": null,
   "id": "0ef9f125",
   "metadata": {},
   "outputs": [],
   "source": [
    "import json\n",
    "import data.movies as movies\n",
    "\n",
    "print(json.dumps(movies.get_by_title(\"Dingo\"), indent=1))\n",
    "\n",
    "\n"
   ]
  },
  {
   "cell_type": "markdown",
   "id": "9215cfc7",
   "metadata": {},
   "source": [
    "<h2> Welche Daten sind nicht vorhanden </h2>"
   ]
  },
  {
   "cell_type": "markdown",
   "id": "42cd59dd",
   "metadata": {},
   "source": [
    "Frage: Wie kann man hier die Performance erhöhen"
   ]
  },
  {
   "cell_type": "markdown",
   "id": "459131a6",
   "metadata": {},
   "source": [
    "Zu welchen problemen kann es kommen und wie kann auf diese reagiert werden?"
   ]
  },
  {
   "cell_type": "markdown",
   "id": "2c006bf2",
   "metadata": {},
   "source": [
    "Frage:\n",
    "Welche Daten kann man nicht einfach über Wikidata beziehen?\n",
    "Bsp. \n",
    "- Wie lange liefen Filme in einem Kino?\n",
    "- In Welchen Kinos lief ein Film?"
   ]
  },
  {
   "cell_type": "markdown",
   "id": "cdcbe6ce",
   "metadata": {},
   "source": [
    "<h2> Fazit </h2>"
   ]
  },
  {
   "cell_type": "code",
   "execution_count": null,
   "id": "bdefba6f",
   "metadata": {},
   "outputs": [],
   "source": []
  }
 ],
 "metadata": {
  "kernelspec": {
   "display_name": "Python 3",
   "language": "python",
   "name": "python3"
  },
  "language_info": {
   "codemirror_mode": {
    "name": "ipython",
    "version": 3
   },
   "file_extension": ".py",
   "mimetype": "text/x-python",
   "name": "python",
   "nbconvert_exporter": "python",
   "pygments_lexer": "ipython3",
   "version": "3.9.5"
  }
 },
 "nbformat": 4,
 "nbformat_minor": 5
}
